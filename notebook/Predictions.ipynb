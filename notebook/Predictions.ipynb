{
 "cells": [
  {
   "cell_type": "code",
   "execution_count": 1,
   "metadata": {
    "collapsed": false,
    "deletable": true,
    "editable": true
   },
   "outputs": [
    {
     "name": "stderr",
     "output_type": "stream",
     "text": [
      "Using TensorFlow backend.\n"
     ]
    }
   ],
   "source": [
    "from keras import applications, optimizers\n",
    "from keras.layers import GlobalAveragePooling2D, Dense\n",
    "from keras.models import Sequential\n",
    "from keras.datasets import mnist\n",
    "from keras.layers.convolutional import Convolution2D\n",
    "from keras import backend as K\n",
    "import keras\n",
    "import numpy as np\n",
    "from keras.applications.imagenet_utils import preprocess_input\n",
    "from img_loader import DatasetLoader\n",
    "from keras.utils import np_utils\n",
    "from keras.preprocessing import image\n",
    "from keras.models import Model\n",
    "import matplotlib.pyplot as plt\n",
    "import matplotlib.image as mpimg\n",
    "from PIL import Image, ImageOps\n",
    "from sklearn.preprocessing import MinMaxScaler\n",
    "import scipy.misc\n",
    "from PIL import ImageEnhance, ImageOps\n",
    "import cv2\n",
    "import matplotlib.pyplot as pp\n",
    "from keras.models import load_model, save_model\n",
    "import random\n",
    "from numpy import argmax\n",
    "import tensorflow as tf"
   ]
  },
  {
   "cell_type": "code",
   "execution_count": 2,
   "metadata": {
    "collapsed": false,
    "deletable": true,
    "editable": true
   },
   "outputs": [],
   "source": [
    "%matplotlib inline\n",
    "np.random.seed(123)  # for reproducibility\n",
    "random.seed(123)"
   ]
  },
  {
   "cell_type": "code",
   "execution_count": 5,
   "metadata": {
    "collapsed": false,
    "deletable": true,
    "editable": true
   },
   "outputs": [
    {
     "name": "stdout",
     "output_type": "stream",
     "text": [
      "DATASET LOADER] Discovering dataset...\n",
      "DATASET LOADER] \n",
      "38 classes found.\n",
      " 54305 images found.\n",
      "DATASET LOADER] Shuffling order...\n",
      "DATASET LOADER] \n",
      "Ready for loading!\n",
      " 40728 for training and 13576 for testing\n",
      "_________________________________________________________________\n",
      "Layer (type)                 Output Shape              Param #   \n",
      "=================================================================\n",
      "input_1 (InputLayer)         (None, None, None, 3)     0         \n",
      "_________________________________________________________________\n",
      "block1_conv1 (Conv2D)        (None, None, None, 64)    1792      \n",
      "_________________________________________________________________\n",
      "block1_conv2 (Conv2D)        (None, None, None, 64)    36928     \n",
      "_________________________________________________________________\n",
      "block1_pool (MaxPooling2D)   (None, None, None, 64)    0         \n",
      "_________________________________________________________________\n",
      "block2_conv1 (Conv2D)        (None, None, None, 128)   73856     \n",
      "_________________________________________________________________\n",
      "block2_conv2 (Conv2D)        (None, None, None, 128)   147584    \n",
      "_________________________________________________________________\n",
      "block2_pool (MaxPooling2D)   (None, None, None, 128)   0         \n",
      "_________________________________________________________________\n",
      "block3_conv1 (Conv2D)        (None, None, None, 256)   295168    \n",
      "_________________________________________________________________\n",
      "block3_conv2 (Conv2D)        (None, None, None, 256)   590080    \n",
      "_________________________________________________________________\n",
      "block3_conv3 (Conv2D)        (None, None, None, 256)   590080    \n",
      "_________________________________________________________________\n",
      "block3_pool (MaxPooling2D)   (None, None, None, 256)   0         \n",
      "_________________________________________________________________\n",
      "block4_conv1 (Conv2D)        (None, None, None, 512)   1180160   \n",
      "_________________________________________________________________\n",
      "block4_conv2 (Conv2D)        (None, None, None, 512)   2359808   \n",
      "_________________________________________________________________\n",
      "block4_conv3 (Conv2D)        (None, None, None, 512)   2359808   \n",
      "_________________________________________________________________\n",
      "block4_pool (MaxPooling2D)   (None, None, None, 512)   0         \n",
      "_________________________________________________________________\n",
      "block5_conv1 (Conv2D)        (None, None, None, 512)   2359808   \n",
      "_________________________________________________________________\n",
      "block5_conv2 (Conv2D)        (None, None, None, 512)   2359808   \n",
      "_________________________________________________________________\n",
      "block5_conv3 (Conv2D)        (None, None, None, 512)   2359808   \n",
      "_________________________________________________________________\n",
      "block5_pool (MaxPooling2D)   (None, None, None, 512)   0         \n",
      "_________________________________________________________________\n",
      "CAM (Conv2D)                 (None, None, None, 512)   2359808   \n",
      "_________________________________________________________________\n",
      "GAP (GlobalAveragePooling2D) (None, 512)               0         \n",
      "_________________________________________________________________\n",
      "W (Dense)                    (None, 38)                19494     \n",
      "=================================================================\n",
      "Total params: 17,093,990\n",
      "Trainable params: 17,093,990\n",
      "Non-trainable params: 0\n",
      "_________________________________________________________________\n"
     ]
    },
    {
     "name": "stderr",
     "output_type": "stream",
     "text": [
      "/usr/lib64/python3.5/site-packages/keras/models.py:281: UserWarning: Error in loading the saved optimizer state. As a result, your model is starting with a freshly initialized optimizer.\n",
      "  warnings.warn('Error in loading the saved optimizer '\n"
     ]
    }
   ],
   "source": [
    "dl = DatasetLoader(\"/home/lux/dev/Bachelor-2017/keras/dataset\", 400)\n",
    "model = load_model(\"/home/lux/Dropbox/HEIG/BACHELOR-2017-SAFE/vgg16_ft_cam_normal.h5\")\n",
    "model.summary()"
   ]
  },
  {
   "cell_type": "code",
   "execution_count": 6,
   "metadata": {
    "collapsed": true,
    "deletable": true,
    "editable": true
   },
   "outputs": [],
   "source": [
    "# Ok here the optimizer is not loaded but it's not important as we only want to do predictions. No more training."
   ]
  },
  {
   "cell_type": "code",
   "execution_count": 7,
   "metadata": {
    "collapsed": false,
    "deletable": true,
    "editable": true
   },
   "outputs": [
    {
     "name": "stdout",
     "output_type": "stream",
     "text": [
      "DATASET LOADER] Discovering dataset...\n",
      "DATASET LOADER] \n",
      "38 classes found.\n",
      " 54305 images found.\n",
      "DATASET LOADER] Shuffling order...\n",
      "DATASET LOADER] \n",
      "Ready for loading!\n",
      " 40728 for training and 13576 for testing\n"
     ]
    }
   ],
   "source": [
    "dl = DatasetLoader('/home/lux/dev/Bachelor-2017/keras/dataset', 20)"
   ]
  },
  {
   "cell_type": "code",
   "execution_count": 8,
   "metadata": {
    "collapsed": false,
    "deletable": true,
    "editable": true
   },
   "outputs": [
    {
     "name": "stdout",
     "output_type": "stream",
     "text": [
      "'Apple___Apple_scab': 0 ,\n",
      "'Apple___Black_rot': 1 ,\n",
      "'Apple___Cedar_apple_rust': 2 ,\n",
      "'Apple___healthy': 3 ,\n",
      "'Blueberry___healthy': 4 ,\n",
      "'Cherry_(including_sour)___Powdery_mildew': 5 ,\n",
      "'Cherry_(including_sour)___healthy': 6 ,\n",
      "'Corn_(maize)___Cercospora_leaf_spot Gray_leaf_spot': 7 ,\n",
      "'Corn_(maize)___Common_rust_': 8 ,\n",
      "'Corn_(maize)___Northern_Leaf_Blight': 9 ,\n",
      "'Corn_(maize)___healthy': 10 ,\n",
      "'Grape___Black_rot': 11 ,\n",
      "'Grape___Esca_(Black_Measles)': 12 ,\n",
      "'Grape___Leaf_blight_(Isariopsis_Leaf_Spot)': 13 ,\n",
      "'Grape___healthy': 14 ,\n",
      "'Orange___Haunglongbing_(Citrus_greening)': 15 ,\n",
      "'Peach___Bacterial_spot': 16 ,\n",
      "'Peach___healthy': 17 ,\n",
      "'Pepper,_bell___Bacterial_spot': 18 ,\n",
      "'Pepper,_bell___healthy': 19 ,\n",
      "'Potato___Early_blight': 20 ,\n",
      "'Potato___Late_blight': 21 ,\n",
      "'Potato___healthy': 22 ,\n",
      "'Raspberry___healthy': 23 ,\n",
      "'Soybean___healthy': 24 ,\n",
      "'Squash___Powdery_mildew': 25 ,\n",
      "'Strawberry___Leaf_scorch': 26 ,\n",
      "'Strawberry___healthy': 27 ,\n",
      "'Tomato___Bacterial_spot': 28 ,\n",
      "'Tomato___Early_blight': 29 ,\n",
      "'Tomato___Late_blight': 30 ,\n",
      "'Tomato___Leaf_Mold': 31 ,\n",
      "'Tomato___Septoria_leaf_spot': 32 ,\n",
      "'Tomato___Spider_mites Two-spotted_spider_mite': 33 ,\n",
      "'Tomato___Target_Spot': 34 ,\n",
      "'Tomato___Tomato_Yellow_Leaf_Curl_Virus': 35 ,\n",
      "'Tomato___Tomato_mosaic_virus': 36 ,\n",
      "'Tomato___healthy': 37 ,\n"
     ]
    }
   ],
   "source": [
    "for d in dl.directories:\n",
    "    print(\"'\" + d[0] + \"':\", d[1], ',')"
   ]
  },
  {
   "cell_type": "code",
   "execution_count": 9,
   "metadata": {
    "collapsed": false,
    "deletable": true,
    "editable": true
   },
   "outputs": [
    {
     "name": "stdout",
     "output_type": "stream",
     "text": [
      "DATASET LOADER] \n",
      "Max img loaded! 19 / 54305\n",
      "DATASET LOADER] Loading completed!\n"
     ]
    }
   ],
   "source": [
    "_, imgs, _ = dl.load_dataset()"
   ]
  },
  {
   "cell_type": "code",
   "execution_count": 10,
   "metadata": {
    "collapsed": false
   },
   "outputs": [
    {
     "data": {
      "text/plain": [
       "(19, 260, 260, 3)"
      ]
     },
     "execution_count": 10,
     "metadata": {},
     "output_type": "execute_result"
    }
   ],
   "source": [
    "imgs.shape"
   ]
  },
  {
   "cell_type": "code",
   "execution_count": 11,
   "metadata": {
    "collapsed": false
   },
   "outputs": [
    {
     "name": "stdout",
     "output_type": "stream",
     "text": [
      "predicted: 9 true_label 9\n",
      "predicted: 33 true_label 33\n",
      "predicted: 33 true_label 33\n",
      "predicted: 24 true_label 24\n",
      "predicted: 5 true_label 5\n",
      "predicted: 27 true_label 27\n",
      "predicted: 29 true_label 29\n",
      "predicted: 36 true_label 36\n",
      "predicted: 5 true_label 5\n",
      "predicted: 35 true_label 35\n",
      "predicted: 17 true_label 17\n",
      "predicted: 14 true_label 14\n",
      "predicted: 16 true_label 16\n",
      "predicted: 20 true_label 20\n",
      "predicted: 25 true_label 25\n",
      "predicted: 34 true_label 37\n",
      "predicted: 5 true_label 5\n",
      "predicted: 16 true_label 16\n",
      "predicted: 15 true_label 15\n"
     ]
    }
   ],
   "source": [
    "input = model.input\n",
    "output_predict = model.get_layer('W').output\n",
    "fn_predict = K.function([input], [output_predict])\n",
    "predict_input = imgs.astype('float32')\n",
    "predict_input = preprocess_input(predict_input)\n",
    "predictions = fn_predict([predict_input])[0]\n",
    "for i, prediction in enumerate(predictions):\n",
    "    value = np.argmax(prediction)\n",
    "    print('predicted:', value, 'true_label', dl.imgDataArray[i].img_class)"
   ]
  },
  {
   "cell_type": "code",
   "execution_count": null,
   "metadata": {
    "collapsed": true
   },
   "outputs": [],
   "source": []
  }
 ],
 "metadata": {
  "kernelspec": {
   "display_name": "Python 3",
   "language": "python",
   "name": "python3"
  },
  "language_info": {
   "codemirror_mode": {
    "name": "ipython",
    "version": 3
   },
   "file_extension": ".py",
   "mimetype": "text/x-python",
   "name": "python",
   "nbconvert_exporter": "python",
   "pygments_lexer": "ipython3",
   "version": "3.5.3"
  }
 },
 "nbformat": 4,
 "nbformat_minor": 2
}

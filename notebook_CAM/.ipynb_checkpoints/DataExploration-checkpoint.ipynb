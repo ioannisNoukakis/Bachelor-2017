{
 "cells": [
  {
   "cell_type": "code",
   "execution_count": 1,
   "metadata": {
    "collapsed": false,
    "deletable": true,
    "editable": true
   },
   "outputs": [
    {
     "name": "stderr",
     "output_type": "stream",
     "text": [
      "Using TensorFlow backend.\n"
     ]
    }
   ],
   "source": [
    "from keras import applications, optimizers\n",
    "from keras.layers import GlobalAveragePooling2D, Dense\n",
    "from keras.models import Sequential\n",
    "from keras.datasets import mnist\n",
    "from keras.layers.convolutional import Convolution2D\n",
    "from keras import backend as K\n",
    "import keras\n",
    "import numpy as np\n",
    "from keras.applications.imagenet_utils import preprocess_input\n",
    "from img_loader import DatasetLoader\n",
    "from keras.utils import np_utils\n",
    "from keras.preprocessing import image\n",
    "from keras.models import Model\n",
    "import matplotlib.pyplot as plt\n",
    "import matplotlib.image as mpimg\n",
    "from PIL import Image, ImageOps\n",
    "from sklearn.preprocessing import MinMaxScaler\n",
    "import scipy.misc\n",
    "from PIL import ImageEnhance, ImageOps\n",
    "import cv2\n",
    "import matplotlib.pyplot as pp\n",
    "from keras.models import load_model, save_model\n",
    "import random\n",
    "from numpy import argmax\n",
    "import tensorflow as tf"
   ]
  },
  {
   "cell_type": "code",
   "execution_count": 2,
   "metadata": {
    "collapsed": true,
    "deletable": true,
    "editable": true
   },
   "outputs": [],
   "source": [
    "correct_preds = np.load('results_correct_prediction.npy')\n",
    "wrong_preds = np.load('results_wrong_prediction.npy')\n",
    "stacked_cams = np.load('cams_total_pre_class.npy')"
   ]
  },
  {
   "cell_type": "markdown",
   "metadata": {
    "deletable": true,
    "editable": true
   },
   "source": [
    "# Correct Predicitons"
   ]
  },
  {
   "cell_type": "code",
   "execution_count": 3,
   "metadata": {
    "collapsed": false,
    "deletable": true,
    "editable": true
   },
   "outputs": [
    {
     "data": {
      "text/plain": [
       "(10222, 5, 2)"
      ]
     },
     "execution_count": 3,
     "metadata": {},
     "output_type": "execute_result"
    }
   ],
   "source": [
    "correct_preds.shape"
   ]
  },
  {
   "cell_type": "code",
   "execution_count": 4,
   "metadata": {
    "collapsed": false,
    "deletable": true,
    "editable": true
   },
   "outputs": [
    {
     "data": {
      "text/plain": [
       "array(['17', '17', '17', ..., '35', '35', '35'],\n",
       "      dtype='<U22')"
      ]
     },
     "execution_count": 4,
     "metadata": {},
     "output_type": "execute_result"
    }
   ],
   "source": [
    "tt = correct_preds[:, 1:, 1:][:,0][:,0]\n",
    "tt"
   ]
  },
  {
   "cell_type": "code",
   "execution_count": 5,
   "metadata": {
    "collapsed": false,
    "deletable": true,
    "editable": true
   },
   "outputs": [],
   "source": [
    "dic = {}\n",
    "for s in range(0, 38):\n",
    "    dic[str(s)] = []"
   ]
  },
  {
   "cell_type": "code",
   "execution_count": 6,
   "metadata": {
    "collapsed": false,
    "deletable": true,
    "editable": true
   },
   "outputs": [
    {
     "data": {
      "text/plain": [
       "['0.3541280099985382',\n",
       " '0.5530989615020625',\n",
       " '0.5641406701295383',\n",
       " '0.47683384225068065',\n",
       " '0.4131297851241658',\n",
       " '0.33005373530424753',\n",
       " '0.2136015353964243',\n",
       " '0.43692434346137315',\n",
       " '0.4791468700614658',\n",
       " '0.3413671925926645',\n",
       " '0.4544114261461666',\n",
       " '0.5387749798196342',\n",
       " '0.1913853485091447',\n",
       " '0.24595368952516883',\n",
       " '0.4195167869869836',\n",
       " '0.3954147623546346',\n",
       " '0.4780609758861201',\n",
       " '0.42618079558009736',\n",
       " '0.3525374208399982',\n",
       " '0.25358518329164176',\n",
       " '0.25521353605302194',\n",
       " '0.41352625361482415',\n",
       " '0.3461800378374715',\n",
       " '0.40365584564478046',\n",
       " '0.36971524501743447',\n",
       " '0.49979616938125554',\n",
       " '0.2805506695231311',\n",
       " '0.3751525641018633',\n",
       " '0.5157988067771456',\n",
       " '0.39942878066533044',\n",
       " '0.3056740386965224',\n",
       " '0.27146086916659923',\n",
       " '0.32831380919669856',\n",
       " '0.3971010161447132',\n",
       " '0.29612610417911034',\n",
       " '0.3177290998203881',\n",
       " '0.29034027741630813',\n",
       " '0.48019217661267033',\n",
       " '0.2948990793622357',\n",
       " '0.3885455310902216',\n",
       " '0.5496315910718608',\n",
       " '0.29021381486183284',\n",
       " '0.3612904420248484',\n",
       " '0.5354278204439494',\n",
       " '0.48143752315847427',\n",
       " '0.404819243592919',\n",
       " '0.3689226937315688',\n",
       " '0.579939537652527',\n",
       " '0.5190736909894781',\n",
       " '0.35865204812291385',\n",
       " '0.26688066749431977',\n",
       " '0.3570605241037933',\n",
       " '0.38745066443908893',\n",
       " '0.46640975203591994',\n",
       " '0.4361789736544743',\n",
       " '0.4485190540580906',\n",
       " '0.32378418297228545',\n",
       " '0.42424814793007054',\n",
       " '0.3218165991749077',\n",
       " '0.34406916438799595',\n",
       " '0.3549483829504948',\n",
       " '0.366409409854556',\n",
       " '0.6205317295783584',\n",
       " '0.21120005352235074',\n",
       " '0.3555692690994178',\n",
       " '0.4594682703530216',\n",
       " '0.46916330479871815',\n",
       " '0.42098397568062534',\n",
       " '0.5475461348170888',\n",
       " '0.4727259414935727',\n",
       " '0.37610682275225515',\n",
       " '0.37059893343213873',\n",
       " '0.46965540865899214',\n",
       " '0.3027941049482172']"
      ]
     },
     "execution_count": 6,
     "metadata": {},
     "output_type": "execute_result"
    }
   ],
   "source": [
    "for i, a in enumerate(tt):\n",
    "    dic[a].append(correct_preds[:, 2:, 1:][:,0][:,0][i])\n",
    "dic['2']"
   ]
  },
  {
   "cell_type": "code",
   "execution_count": 7,
   "metadata": {
    "collapsed": false,
    "deletable": true,
    "editable": true
   },
   "outputs": [
    {
     "data": {
      "image/png": "[encoded data removed]",
      "text/plain": [
       "<matplotlib.figure.Figure at 0x7fb718499128>"
      ]
     },
     "metadata": {},
     "output_type": "display_data"
    }
   ],
   "source": [
    "for s in range(0, 38):\n",
    "    plt.plot(range(0, len(dic[str(s)])), sorted(dic[str(s)]))\n",
    "plt.title('Bias per class')\n",
    "plt.ylabel('Bias metric')\n",
    "plt.xlabel('sample\\'s number')\n",
    "plt.show()"
   ]
  },
  {
   "cell_type": "code",
   "execution_count": 8,
   "metadata": {
    "collapsed": true,
    "deletable": true,
    "editable": true
   },
   "outputs": [],
   "source": [
    "unchanged = correct_preds[:, 2:, 1:][:,0][:,0].astype(np.float)\n",
    "n10 = correct_preds[:, 2:, 1:][:,1][:,0].astype(np.float)\n",
    "nmin = correct_preds[:, 2:, 1:][:,2][:,0].astype(np.float)"
   ]
  },
  {
   "cell_type": "code",
   "execution_count": 15,
   "metadata": {
    "collapsed": false,
    "deletable": true,
    "editable": true
   },
   "outputs": [
    {
     "data": {
      "image/png": "[encoded data removed]",
      "text/plain": [
       "<matplotlib.figure.Figure at 0x7fb7129faeb8>"
      ]
     },
     "metadata": {},
     "output_type": "display_data"
    }
   ],
   "source": [
    "plt.plot(range(0, len(unchanged)), sorted(unchanged))\n",
    "plt.ylabel('Bias metric')\n",
    "plt.xlabel('sample')\n",
    "plt.title('Bias metric for every sample in the dataset')\n",
    "plt.show()"
   ]
  },
  {
   "cell_type": "code",
   "execution_count": 10,
   "metadata": {
    "collapsed": false,
    "deletable": true,
    "editable": true
   },
   "outputs": [
    {
     "name": "stdout",
     "output_type": "stream",
     "text": [
      "unchanged\n",
      "min 0.0\n",
      "max 0.941213615425\n",
      "mean 0.344595693933\n",
      "median 0.327683817285\n",
      "n01\n",
      "min 0.0\n",
      "max 0.955136974254\n",
      "mean 0.419647000093\n",
      "median 0.416357216897\n",
      "nmin\n",
      "min -1.31197765701\n",
      "max 1.19654891921\n",
      "mean 0.340991430248\n",
      "median 0.330118494543\n"
     ]
    }
   ],
   "source": [
    "print('unchanged')\n",
    "print('min', unchanged.min())\n",
    "print('max', unchanged.max())\n",
    "print('mean', unchanged.mean())\n",
    "print('median', np.median(unchanged))\n",
    "\n",
    "print('n01')\n",
    "print('min', n10.min())\n",
    "print('max', n10.max())\n",
    "print('mean', n10.mean())\n",
    "print('median', np.median(n10))\n",
    "\n",
    "print('nmin')\n",
    "print('min', nmin.min())\n",
    "print('max', nmin.max())\n",
    "print('mean', nmin.mean())\n",
    "print('median', np.median(nmin))"
   ]
  },
  {
   "cell_type": "code",
   "execution_count": 11,
   "metadata": {
    "collapsed": false,
    "deletable": true,
    "editable": true
   },
   "outputs": [
    {
     "data": {
      "image/png": "[encoded data removed]",
      "text/plain": [
       "<matplotlib.figure.Figure at 0x7fb712b19550>"
      ]
     },
     "metadata": {},
     "output_type": "display_data"
    }
   ],
   "source": [
    "plt.figure().suptitle('Values Untouched', fontsize=20)\n",
    "plt.boxplot(correct_preds[:, 2:, 1:][:,0][:,0].astype('float32'), 0, 'rs', 0)\n",
    "plt.show()"
   ]
  },
  {
   "cell_type": "code",
   "execution_count": 12,
   "metadata": {
    "collapsed": false,
    "deletable": true,
    "editable": true
   },
   "outputs": [
    {
     "data": {
      "image/png": "[encoded data removed]",
      "text/plain": [
       "<matplotlib.figure.Figure at 0x7fb712a0c0b8>"
      ]
     },
     "metadata": {},
     "output_type": "display_data"
    }
   ],
   "source": [
    "plt.figure().suptitle('normalized between 0, 1', fontsize=20)\n",
    "plt.boxplot(correct_preds[:, 2:, 1:][:,1][:,0].astype('float32'), 0, 'rs', 0)\n",
    "plt.show()"
   ]
  },
  {
   "cell_type": "code",
   "execution_count": 13,
   "metadata": {
    "collapsed": false,
    "deletable": true,
    "editable": true
   },
   "outputs": [
    {
     "data": {
      "image/png": "[encoded data removed]",
      "text/plain": [
       "<matplotlib.figure.Figure at 0x7fb71298e8d0>"
      ]
     },
     "metadata": {},
     "output_type": "display_data"
    }
   ],
   "source": [
    "plt.figure().suptitle('Added min to all pixels', fontsize=20)\n",
    "plt.boxplot(correct_preds[:, 2:, 1:][:,2][:,0].astype('float32'), 0, 'rs', 0)\n",
    "plt.show()"
   ]
  },
  {
   "cell_type": "markdown",
   "metadata": {
    "deletable": true,
    "editable": true
   },
   "source": [
    "# Wrong predicitons"
   ]
  },
  {
   "cell_type": "code",
   "execution_count": null,
   "metadata": {
    "collapsed": false,
    "deletable": true,
    "editable": true
   },
   "outputs": [],
   "source": [
    "wrong_preds.shape"
   ]
  },
  {
   "cell_type": "code",
   "execution_count": null,
   "metadata": {
    "collapsed": false,
    "deletable": true,
    "editable": true
   },
   "outputs": [],
   "source": [
    "wrong_preds[:, 2:, 1:][:,0][:,0].shape"
   ]
  },
  {
   "cell_type": "code",
   "execution_count": null,
   "metadata": {
    "collapsed": false,
    "deletable": true,
    "editable": true
   },
   "outputs": [],
   "source": [
    "score_predicted = wrong_preds[:, 2:, 1:][:,0][:,0].astype('float32')\n",
    "score_predicted_n01 = wrong_preds[:, 2:, 1:][:,1][:,0].astype('float32')\n",
    "score_predicted_nmin = wrong_preds[:, 2:, 1:][:,2][:,0].astype('float32')\n",
    "score_true_label = wrong_preds[:, 2:, 1:][:,3][:,0].astype('float32')\n",
    "score_true_label_n01 = wrong_preds[:, 2:, 1:][:,4][:,0].astype('float32')\n",
    "score_true_label_nmin = wrong_preds[:, 2:, 1:][:,5][:,0].astype('float32')"
   ]
  },
  {
   "cell_type": "code",
   "execution_count": null,
   "metadata": {
    "collapsed": false,
    "deletable": true,
    "editable": true
   },
   "outputs": [],
   "source": [
    "plt.figure().suptitle('score_predicted', fontsize=20)\n",
    "plt.boxplot(score_predicted, 0, 'rs', 0)\n",
    "plt.show()"
   ]
  },
  {
   "cell_type": "code",
   "execution_count": null,
   "metadata": {
    "collapsed": false,
    "deletable": true,
    "editable": true
   },
   "outputs": [],
   "source": [
    "plt.figure().suptitle('score_true_label', fontsize=20)\n",
    "plt.boxplot(score_true_label, 0, 'rs', 0)\n",
    "plt.show()"
   ]
  },
  {
   "cell_type": "code",
   "execution_count": null,
   "metadata": {
    "collapsed": false,
    "deletable": true,
    "editable": true
   },
   "outputs": [],
   "source": [
    "print('unchanged')\n",
    "print('min', score_predicted_n01.min())\n",
    "print('max', score_predicted_n01.max())\n",
    "print('mean', score_predicted_n01.mean())\n",
    "print('median', np.median(score_predicted_n01))\n",
    "\n",
    "print('n01')\n",
    "print('min', score_true_label_n01.min())\n",
    "print('max', score_true_label_n01.max())\n",
    "print('mean', score_true_label_n01.mean())\n",
    "print('median', np.median(score_true_label_n01))"
   ]
  },
  {
   "cell_type": "markdown",
   "metadata": {
    "deletable": true,
    "editable": true
   },
   "source": [
    "Okay it does not tell much here let's compare the two scores..."
   ]
  },
  {
   "cell_type": "code",
   "execution_count": null,
   "metadata": {
    "collapsed": false,
    "deletable": true,
    "editable": true
   },
   "outputs": [],
   "source": [
    "print('score_predicted_n01', score_predicted_n01[0])\n",
    "print('score_true_label_n01', score_true_label_n01[0])\n",
    "print('===================')\n",
    "print('score_predicted_n01', score_predicted_n01[1])\n",
    "print('score_true_label_n01', score_true_label_n01[1])"
   ]
  },
  {
   "cell_type": "markdown",
   "metadata": {
    "deletable": true,
    "editable": true
   },
   "source": [
    "So the CCN is looking with a larger error rate at the correct class. So when a CNN is making mistakes it looks outside of the leaf. Let's verify this by plotting our values."
   ]
  },
  {
   "cell_type": "code",
   "execution_count": null,
   "metadata": {
    "collapsed": false,
    "deletable": true,
    "editable": true,
    "scrolled": true
   },
   "outputs": [],
   "source": [
    "#both = zip(score_true_label, score_predicted)\n",
    "both = zip(score_predicted, score_true_label)\n",
    "\n",
    "both = sorted(both)\n",
    "both = np.array(both)\n",
    "pred = both[:,0]\n",
    "true = both[:,1]"
   ]
  },
  {
   "cell_type": "code",
   "execution_count": null,
   "metadata": {
    "collapsed": false,
    "deletable": true,
    "editable": true
   },
   "outputs": [],
   "source": [
    "plt.plot(pred)\n",
    "plt.plot(true)\n",
    "\n",
    "\n",
    "plt.ylabel('predicted(blue) vs true_label(orange)')\n",
    "plt.show()"
   ]
  },
  {
   "cell_type": "code",
   "execution_count": null,
   "metadata": {
    "collapsed": false,
    "deletable": true,
    "editable": true
   },
   "outputs": [],
   "source": [
    "plt.plot(range(0, len(score_predicted)), sorted(score_predicted))\n",
    "plt.plot(range(0, len(score_true_label)), sorted(score_true_label))\n",
    "plt.ylabel('(normalized 0 - 1) predicted(blue) vs true_label(orange)')\n",
    "plt.show()"
   ]
  },
  {
   "cell_type": "code",
   "execution_count": null,
   "metadata": {
    "collapsed": true,
    "deletable": true,
    "editable": true
   },
   "outputs": [],
   "source": [
    "score_predicted_n01 = sorted(score_predicted_n01)\n",
    "score_true_label_n01 = sorted(score_true_label_n01)"
   ]
  },
  {
   "cell_type": "code",
   "execution_count": null,
   "metadata": {
    "collapsed": false,
    "deletable": true,
    "editable": true
   },
   "outputs": [],
   "source": [
    "plt.plot(range(0, len(score_predicted_n01)), score_predicted_n01)\n",
    "plt.plot(range(0, len(score_true_label_n01)), score_true_label_n01)\n",
    "plt.ylabel('(normalized 0 - 1) predicted(blue) vs true_label(orange)')\n",
    "plt.show()"
   ]
  },
  {
   "cell_type": "markdown",
   "metadata": {
    "collapsed": true,
    "deletable": true,
    "editable": true
   },
   "source": [
    "# EXPLORTATION DES CAMS STAQUEES"
   ]
  },
  {
   "cell_type": "code",
   "execution_count": null,
   "metadata": {
    "collapsed": false,
    "deletable": true,
    "editable": true
   },
   "outputs": [],
   "source": [
    "stacked_cams.shape"
   ]
  },
  {
   "cell_type": "code",
   "execution_count": null,
   "metadata": {
    "collapsed": false,
    "deletable": true,
    "editable": true
   },
   "outputs": [],
   "source": [
    "print('stacked_cams')\n",
    "print('min', stacked_cams.min())\n",
    "print('max', stacked_cams.max())\n",
    "print('mean', stacked_cams.mean())\n",
    "print('median', np.median(stacked_cams))"
   ]
  },
  {
   "cell_type": "code",
   "execution_count": null,
   "metadata": {
    "collapsed": true,
    "deletable": true,
    "editable": true
   },
   "outputs": [],
   "source": [
    "a = 3"
   ]
  },
  {
   "cell_type": "code",
   "execution_count": null,
   "metadata": {
    "collapsed": false,
    "deletable": true,
    "editable": true
   },
   "outputs": [],
   "source": [
    "from scipy.misc import toimage\n",
    "toimage(stacked_cams[0][a])"
   ]
  },
  {
   "cell_type": "code",
   "execution_count": null,
   "metadata": {
    "collapsed": false,
    "deletable": true,
    "editable": true
   },
   "outputs": [],
   "source": [
    "from scipy.misc import toimage\n",
    "toimage(stacked_cams[1][a])"
   ]
  },
  {
   "cell_type": "code",
   "execution_count": null,
   "metadata": {
    "collapsed": true,
    "deletable": true,
    "editable": true
   },
   "outputs": [],
   "source": []
  }
 ],
 "metadata": {
  "kernelspec": {
   "display_name": "Python 3",
   "language": "python",
   "name": "python3"
  },
  "language_info": {
   "codemirror_mode": {
    "name": "ipython",
    "version": 3
   },
   "file_extension": ".py",
   "mimetype": "text/x-python",
   "name": "python",
   "nbconvert_exporter": "python",
   "pygments_lexer": "ipython3",
   "version": "3.5.3"
  }
 },
 "nbformat": 4,
 "nbformat_minor": 2
}

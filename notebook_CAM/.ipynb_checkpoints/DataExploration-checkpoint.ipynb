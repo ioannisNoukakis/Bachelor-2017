{
 "cells": [
  {
   "cell_type": "code",
   "execution_count": 1,
   "metadata": {
    "collapsed": false
   },
   "outputs": [
    {
     "name": "stderr",
     "output_type": "stream",
     "text": [
      "Using TensorFlow backend.\n"
     ]
    }
   ],
   "source": [
    "from keras import applications, optimizers\n",
    "from keras.layers import GlobalAveragePooling2D, Dense\n",
    "from keras.models import Sequential\n",
    "from keras.datasets import mnist\n",
    "from keras.layers.convolutional import Convolution2D\n",
    "from keras import backend as K\n",
    "import keras\n",
    "import numpy as np\n",
    "from keras.applications.imagenet_utils import preprocess_input\n",
    "from img_loader import DatasetLoader\n",
    "from keras.utils import np_utils\n",
    "from keras.preprocessing import image\n",
    "from keras.models import Model\n",
    "import matplotlib.pyplot as plt\n",
    "import matplotlib.image as mpimg\n",
    "from PIL import Image, ImageOps\n",
    "from sklearn.preprocessing import MinMaxScaler\n",
    "import scipy.misc\n",
    "from PIL import ImageEnhance, ImageOps\n",
    "import cv2\n",
    "import matplotlib.pyplot as pp\n",
    "from keras.models import load_model, save_model\n",
    "import random\n",
    "from numpy import argmax\n",
    "import tensorflow as tf"
   ]
  },
  {
   "cell_type": "code",
   "execution_count": 14,
   "metadata": {
    "collapsed": true
   },
   "outputs": [],
   "source": [
    "correct_preds = np.load('results_correct_prediction.npy')\n",
    "wrong_preds = np.load('results_wrong_prediction.npy')"
   ]
  },
  {
   "cell_type": "markdown",
   "metadata": {},
   "source": [
    "# Correct Predicitons"
   ]
  },
  {
   "cell_type": "code",
   "execution_count": 3,
   "metadata": {
    "collapsed": false
   },
   "outputs": [
    {
     "data": {
      "text/plain": [
       "(10222, 5, 2)"
      ]
     },
     "execution_count": 3,
     "metadata": {},
     "output_type": "execute_result"
    }
   ],
   "source": [
    "correct_preds.shape"
   ]
  },
  {
   "cell_type": "code",
   "execution_count": 4,
   "metadata": {
    "collapsed": false
   },
   "outputs": [
    {
     "data": {
      "text/plain": [
       "(178, 8, 2)"
      ]
     },
     "execution_count": 4,
     "metadata": {},
     "output_type": "execute_result"
    }
   ],
   "source": [
    "wrong_preds.shape"
   ]
  },
  {
   "cell_type": "code",
   "execution_count": 5,
   "metadata": {
    "collapsed": false
   },
   "outputs": [
    {
     "data": {
      "text/plain": [
       "(10222, 3, 2)"
      ]
     },
     "execution_count": 5,
     "metadata": {},
     "output_type": "execute_result"
    }
   ],
   "source": [
    "correct_preds[:, 2:].shape"
   ]
  },
  {
   "cell_type": "code",
   "execution_count": 6,
   "metadata": {
    "collapsed": false
   },
   "outputs": [
    {
     "data": {
      "text/plain": [
       "array([[['0.6086244639829911'],\n",
       "        ['0.6741604550340611'],\n",
       "        ['0.5960959719230797']],\n",
       "\n",
       "       [['0.7168559178006866'],\n",
       "        ['0.800995615323544'],\n",
       "        ['0.7127911150879972']],\n",
       "\n",
       "       [['0.8174006478041715'],\n",
       "        ['0.8686775049752646'],\n",
       "        ['0.8102611933930685']],\n",
       "\n",
       "       ..., \n",
       "       [['0.2451462507633796'],\n",
       "        ['0.35860695888539657'],\n",
       "        ['0.26564191242945895']],\n",
       "\n",
       "       [['0.3305650552972705'],\n",
       "        ['0.3922146556993603'],\n",
       "        ['0.3587589040677532']],\n",
       "\n",
       "       [['0.5222994633844229'],\n",
       "        ['0.6823573256038512'],\n",
       "        ['0.5479758790925087']]],\n",
       "      dtype='<U22')"
      ]
     },
     "execution_count": 6,
     "metadata": {},
     "output_type": "execute_result"
    }
   ],
   "source": [
    "correct_preds[:, 2:, 1:]"
   ]
  },
  {
   "cell_type": "code",
   "execution_count": 7,
   "metadata": {
    "collapsed": false
   },
   "outputs": [
    {
     "data": {
      "text/plain": [
       "array(['0.6741604550340611', '0.800995615323544', '0.8686775049752646',\n",
       "       ..., '0.35860695888539657', '0.3922146556993603',\n",
       "       '0.6823573256038512'],\n",
       "      dtype='<U22')"
      ]
     },
     "execution_count": 7,
     "metadata": {},
     "output_type": "execute_result"
    }
   ],
   "source": [
    "correct_preds[:, 2:, 1:][:,1][:,0]"
   ]
  },
  {
   "cell_type": "code",
   "execution_count": 8,
   "metadata": {
    "collapsed": true
   },
   "outputs": [],
   "source": [
    "unchanged = correct_preds[:, 2:, 1:][:,0][:,0].astype(np.float)\n",
    "n10 = correct_preds[:, 2:, 1:][:,1][:,0].astype(np.float)\n",
    "nmin = correct_preds[:, 2:, 1:][:,2][:,0].astype(np.float)"
   ]
  },
  {
   "cell_type": "code",
   "execution_count": 9,
   "metadata": {
    "collapsed": false
   },
   "outputs": [
    {
     "name": "stdout",
     "output_type": "stream",
     "text": [
      "unchanged\n",
      "min 0.0\n",
      "max 0.941213615425\n",
      "mean 0.344595693933\n",
      "median 0.327683817285\n",
      "n01\n",
      "min 0.0\n",
      "max 0.955136974254\n",
      "mean 0.419647000093\n",
      "median 0.416357216897\n",
      "nmin\n",
      "min -1.31197765701\n",
      "max 1.19654891921\n",
      "mean 0.340991430248\n",
      "median 0.330118494543\n"
     ]
    }
   ],
   "source": [
    "print('unchanged')\n",
    "print('min', unchanged.min())\n",
    "print('max', unchanged.max())\n",
    "print('mean', unchanged.mean())\n",
    "print('median', np.median(unchanged))\n",
    "\n",
    "print('n01')\n",
    "print('min', n10.min())\n",
    "print('max', n10.max())\n",
    "print('mean', n10.mean())\n",
    "print('median', np.median(n10))\n",
    "\n",
    "print('nmin')\n",
    "print('min', nmin.min())\n",
    "print('max', nmin.max())\n",
    "print('mean', nmin.mean())\n",
    "print('median', np.median(nmin))"
   ]
  },
  {
   "cell_type": "code",
   "execution_count": 10,
   "metadata": {
    "collapsed": false
   },
   "outputs": [
    {
     "data": {
      "image/png": "[encoded data removed]",
      "text/plain": [
       "<matplotlib.figure.Figure at 0x7f2723ddd780>"
      ]
     },
     "metadata": {},
     "output_type": "display_data"
    }
   ],
   "source": [
    "plt.figure().suptitle('Values Untouched', fontsize=20)\n",
    "plt.boxplot(correct_preds[:, 2:, 1:][:,0][:,0].astype('float32'), 0, 'rs', 0)\n",
    "plt.show()"
   ]
  },
  {
   "cell_type": "code",
   "execution_count": 11,
   "metadata": {
    "collapsed": false
   },
   "outputs": [
    {
     "data": {
      "image/png": "[encoded data removed]",
      "text/plain": [
       "<matplotlib.figure.Figure at 0x7f2722ffbd68>"
      ]
     },
     "metadata": {},
     "output_type": "display_data"
    }
   ],
   "source": [
    "plt.figure().suptitle('normalized between 0, 1', fontsize=20)\n",
    "plt.boxplot(correct_preds[:, 2:, 1:][:,1][:,0].astype('float32'), 0, 'rs', 0)\n",
    "plt.show()"
   ]
  },
  {
   "cell_type": "code",
   "execution_count": 15,
   "metadata": {
    "collapsed": false
   },
   "outputs": [
    {
     "data": {
      "image/png": "[encoded data removed]",
      "text/plain": [
       "<matplotlib.figure.Figure at 0x7f27206af198>"
      ]
     },
     "metadata": {},
     "output_type": "display_data"
    }
   ],
   "source": [
    "plt.figure().suptitle('Added min to all pixels', fontsize=20)\n",
    "plt.boxplot(correct_preds[:, 2:, 1:][:,2][:,0].astype('float32'), 0, 'rs', 0)\n",
    "plt.show()"
   ]
  },
  {
   "cell_type": "markdown",
   "metadata": {},
   "source": [
    "# Wrong predicitons"
   ]
  },
  {
   "cell_type": "code",
   "execution_count": 16,
   "metadata": {
    "collapsed": false
   },
   "outputs": [
    {
     "data": {
      "text/plain": [
       "(178, 8, 2)"
      ]
     },
     "execution_count": 16,
     "metadata": {},
     "output_type": "execute_result"
    }
   ],
   "source": [
    "wrong_preds.shape"
   ]
  },
  {
   "cell_type": "code",
   "execution_count": 26,
   "metadata": {
    "collapsed": false
   },
   "outputs": [
    {
     "data": {
      "text/plain": [
       "(178,)"
      ]
     },
     "execution_count": 26,
     "metadata": {},
     "output_type": "execute_result"
    }
   ],
   "source": [
    "wrong_preds[:, 2:, 1:][:,0][:,0].shape"
   ]
  },
  {
   "cell_type": "code",
   "execution_count": 28,
   "metadata": {
    "collapsed": false
   },
   "outputs": [],
   "source": [
    "score_predicted = wrong_preds[:, 2:, 1:][:,0][:,0].astype('float32')\n",
    "score_predicted_n01 = wrong_preds[:, 2:, 1:][:,1][:,0].astype('float32')\n",
    "score_predicted_nmin = wrong_preds[:, 2:, 1:][:,2][:,0].astype('float32')\n",
    "score_true_label = wrong_preds[:, 2:, 1:][:,3][:,0].astype('float32')\n",
    "score_true_label_n01 = wrong_preds[:, 2:, 1:][:,4][:,0].astype('float32')\n",
    "score_true_label_nmin = wrong_preds[:, 2:, 1:][:,5][:,0].astype('float32')"
   ]
  },
  {
   "cell_type": "code",
   "execution_count": 39,
   "metadata": {
    "collapsed": false
   },
   "outputs": [
    {
     "data": {
      "image/png": "[encoded data removed]",
      "text/plain": [
       "<matplotlib.figure.Figure at 0x7f2723ddd828>"
      ]
     },
     "metadata": {},
     "output_type": "display_data"
    }
   ],
   "source": [
    "plt.figure().suptitle('n01_predicted', fontsize=20)\n",
    "plt.boxplot(score_predicted_n01, 0, 'rs', 0)\n",
    "plt.show()"
   ]
  },
  {
   "cell_type": "code",
   "execution_count": 40,
   "metadata": {
    "collapsed": false
   },
   "outputs": [
    {
     "data": {
      "image/png": "[encoded data removed]",
      "text/plain": [
       "<matplotlib.figure.Figure at 0x7f271fd95c50>"
      ]
     },
     "metadata": {},
     "output_type": "display_data"
    }
   ],
   "source": [
    "plt.figure().suptitle('n01_true_label', fontsize=20)\n",
    "plt.boxplot(score_true_label_n01, 0, 'rs', 0)\n",
    "plt.show()"
   ]
  },
  {
   "cell_type": "code",
   "execution_count": 41,
   "metadata": {
    "collapsed": false
   },
   "outputs": [
    {
     "name": "stdout",
     "output_type": "stream",
     "text": [
      "unchanged\n",
      "min 0.086623\n",
      "max 0.83035\n",
      "mean 0.464236\n",
      "median 0.456797\n",
      "n01\n",
      "min 0.0623723\n",
      "max 0.836771\n",
      "mean 0.471734\n",
      "median 0.461431\n"
     ]
    }
   ],
   "source": [
    "print('unchanged')\n",
    "print('min', score_predicted_n01.min())\n",
    "print('max', score_predicted_n01.max())\n",
    "print('mean', score_predicted_n01.mean())\n",
    "print('median', np.median(score_predicted_n01))\n",
    "\n",
    "print('n01')\n",
    "print('min', score_true_label_n01.min())\n",
    "print('max', score_true_label_n01.max())\n",
    "print('mean', score_true_label_n01.mean())\n",
    "print('median', np.median(score_true_label_n01))"
   ]
  },
  {
   "cell_type": "markdown",
   "metadata": {},
   "source": [
    "Okay it does not tell much here let's compare the two scores..."
   ]
  },
  {
   "cell_type": "code",
   "execution_count": 46,
   "metadata": {
    "collapsed": false
   },
   "outputs": [
    {
     "name": "stdout",
     "output_type": "stream",
     "text": [
      "score_predicted_n01 0.20908\n",
      "score_true_label_n01 0.215158\n",
      "===================\n",
      "score_predicted_n01 0.404313\n",
      "score_true_label_n01 0.547835\n"
     ]
    }
   ],
   "source": [
    "print('score_predicted_n01', score_predicted_n01[0])\n",
    "print('score_true_label_n01', score_true_label_n01[0])\n",
    "print('===================')\n",
    "print('score_predicted_n01', score_predicted_n01[1])\n",
    "print('score_true_label_n01', score_true_label_n01[1])"
   ]
  },
  {
   "cell_type": "markdown",
   "metadata": {},
   "source": [
    "So the CCN is looking with a larger error rate at the correct class. So when a CNN is making mistakes it looks outside of the leaf. Let's verify this by plotting our values."
   ]
  },
  {
   "cell_type": "code",
   "execution_count": 60,
   "metadata": {
    "collapsed": true
   },
   "outputs": [],
   "source": [
    "score_predicted = sorted(score_predicted)\n",
    "score_true_label = sorted(score_true_label)"
   ]
  },
  {
   "cell_type": "code",
   "execution_count": 61,
   "metadata": {
    "collapsed": false
   },
   "outputs": [
    {
     "data": {
      "image/png": "[encoded data removed]",
      "text/plain": [
       "<matplotlib.figure.Figure at 0x7f271fb7c080>"
      ]
     },
     "metadata": {},
     "output_type": "display_data"
    }
   ],
   "source": [
    "plt.plot(range(0, len(score_predicted)), score_predicted)\n",
    "plt.plot(range(0, len(score_true_label)), score_true_label)\n",
    "plt.ylabel('predicted(blue) vs true_label(orange)')\n",
    "plt.show()"
   ]
  },
  {
   "cell_type": "code",
   "execution_count": 58,
   "metadata": {
    "collapsed": true
   },
   "outputs": [],
   "source": [
    "score_predicted_n01 = sorted(score_predicted_n01)\n",
    "score_true_label_n01 = sorted(score_true_label_n01)"
   ]
  },
  {
   "cell_type": "code",
   "execution_count": 59,
   "metadata": {
    "collapsed": false
   },
   "outputs": [
    {
     "data": {
      "image/png": "[encoded data removed]",
      "text/plain": [
       "<matplotlib.figure.Figure at 0x7f271f9bd208>"
      ]
     },
     "metadata": {},
     "output_type": "display_data"
    }
   ],
   "source": [
    "plt.plot(range(0, len(score_predicted_n01)), score_predicted_n01)\n",
    "plt.plot(range(0, len(score_true_label_n01)), score_true_label_n01)\n",
    "plt.ylabel('(normalized 0 - 1) predicted(blue) vs true_label(orange)')\n",
    "plt.show()"
   ]
  },
  {
   "cell_type": "code",
   "execution_count": null,
   "metadata": {
    "collapsed": true
   },
   "outputs": [],
   "source": []
  }
 ],
 "metadata": {
  "kernelspec": {
   "display_name": "Python 3",
   "language": "python",
   "name": "python3"
  },
  "language_info": {
   "codemirror_mode": {
    "name": "ipython",
    "version": 3
   },
   "file_extension": ".py",
   "mimetype": "text/x-python",
   "name": "python",
   "nbconvert_exporter": "python",
   "pygments_lexer": "ipython3",
   "version": "3.5.3"
  }
 },
 "nbformat": 4,
 "nbformat_minor": 2
}

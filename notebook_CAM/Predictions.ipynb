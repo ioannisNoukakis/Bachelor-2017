{
 "cells": [
  {
   "cell_type": "code",
   "execution_count": 1,
   "metadata": {
    "collapsed": false,
    "deletable": true,
    "editable": true,
    "scrolled": true
   },
   "outputs": [
    {
     "name": "stderr",
     "output_type": "stream",
     "text": [
      "Using TensorFlow backend.\n"
     ]
    }
   ],
   "source": [
    "from keras import applications, optimizers\n",
    "from keras.layers import GlobalAveragePooling2D, Dense\n",
    "from keras.models import Sequential\n",
    "from keras.datasets import mnist\n",
    "from keras.layers.convolutional import Convolution2D\n",
    "from keras import backend as K\n",
    "import keras\n",
    "import numpy as np\n",
    "from keras.applications.imagenet_utils import preprocess_input\n",
    "from img_loader import DatasetLoader\n",
    "from keras.utils import np_utils\n",
    "from keras.preprocessing import image\n",
    "from keras.models import Model\n",
    "import matplotlib.pyplot as plt\n",
    "import matplotlib.image as mpimg\n",
    "from PIL import Image, ImageOps\n",
    "from sklearn.preprocessing import MinMaxScaler\n",
    "import scipy.misc\n",
    "from PIL import ImageEnhance\n",
    "import cv2\n",
    "import matplotlib.pyplot as pp\n",
    "from keras.models import load_model, save_model\n",
    "import random\n",
    "from numpy import argmax\n",
    "import tensorflow as tf\n",
    "from tensorflow.python.ops.image_ops_impl import ResizeMethod"
   ]
  },
  {
   "cell_type": "code",
   "execution_count": 2,
   "metadata": {
    "collapsed": false,
    "deletable": true,
    "editable": true
   },
   "outputs": [],
   "source": [
    "%matplotlib inline\n",
    "np.random.seed(123)  # for reproducibility\n",
    "random.seed(123)"
   ]
  },
  {
   "cell_type": "code",
   "execution_count": 3,
   "metadata": {
    "collapsed": false,
    "deletable": true,
    "editable": true
   },
   "outputs": [
    {
     "name": "stdout",
     "output_type": "stream",
     "text": [
      "DATASET LOADER] Discovering dataset...\n",
      "DATASET LOADER] \n",
      "38 classes found.\n",
      " 54305 images found.\n",
      "DATASET LOADER] Shuffling order...\n",
      "DATASET LOADER] \n",
      "Ready for loading!\n",
      " 40728 for training and 13576 for testing\n",
      "_________________________________________________________________\n",
      "Layer (type)                 Output Shape              Param #   \n",
      "=================================================================\n",
      "input_1 (InputLayer)         (None, None, None, 3)     0         \n",
      "_________________________________________________________________\n",
      "block1_conv1 (Conv2D)        (None, None, None, 64)    1792      \n",
      "_________________________________________________________________\n",
      "block1_conv2 (Conv2D)        (None, None, None, 64)    36928     \n",
      "_________________________________________________________________\n",
      "block1_pool (MaxPooling2D)   (None, None, None, 64)    0         \n",
      "_________________________________________________________________\n",
      "block2_conv1 (Conv2D)        (None, None, None, 128)   73856     \n",
      "_________________________________________________________________\n",
      "block2_conv2 (Conv2D)        (None, None, None, 128)   147584    \n",
      "_________________________________________________________________\n",
      "block2_pool (MaxPooling2D)   (None, None, None, 128)   0         \n",
      "_________________________________________________________________\n",
      "block3_conv1 (Conv2D)        (None, None, None, 256)   295168    \n",
      "_________________________________________________________________\n",
      "block3_conv2 (Conv2D)        (None, None, None, 256)   590080    \n",
      "_________________________________________________________________\n",
      "block3_conv3 (Conv2D)        (None, None, None, 256)   590080    \n",
      "_________________________________________________________________\n",
      "block3_pool (MaxPooling2D)   (None, None, None, 256)   0         \n",
      "_________________________________________________________________\n",
      "block4_conv1 (Conv2D)        (None, None, None, 512)   1180160   \n",
      "_________________________________________________________________\n",
      "block4_conv2 (Conv2D)        (None, None, None, 512)   2359808   \n",
      "_________________________________________________________________\n",
      "block4_conv3 (Conv2D)        (None, None, None, 512)   2359808   \n",
      "_________________________________________________________________\n",
      "block4_pool (MaxPooling2D)   (None, None, None, 512)   0         \n",
      "_________________________________________________________________\n",
      "block5_conv1 (Conv2D)        (None, None, None, 512)   2359808   \n",
      "_________________________________________________________________\n",
      "block5_conv2 (Conv2D)        (None, None, None, 512)   2359808   \n",
      "_________________________________________________________________\n",
      "block5_conv3 (Conv2D)        (None, None, None, 512)   2359808   \n",
      "_________________________________________________________________\n",
      "block5_pool (MaxPooling2D)   (None, None, None, 512)   0         \n",
      "_________________________________________________________________\n",
      "CAM (Conv2D)                 (None, None, None, 512)   2359808   \n",
      "_________________________________________________________________\n",
      "GAP (GlobalAveragePooling2D) (None, 512)               0         \n",
      "_________________________________________________________________\n",
      "W (Dense)                    (None, 38)                19494     \n",
      "=================================================================\n",
      "Total params: 17,093,990\n",
      "Trainable params: 17,093,990\n",
      "Non-trainable params: 0\n",
      "_________________________________________________________________\n"
     ]
    },
    {
     "name": "stderr",
     "output_type": "stream",
     "text": [
      "/usr/lib64/python3.5/site-packages/keras/models.py:281: UserWarning: Error in loading the saved optimizer state. As a result, your model is starting with a freshly initialized optimizer.\n",
      "  warnings.warn('Error in loading the saved optimizer '\n"
     ]
    }
   ],
   "source": [
    "dl = DatasetLoader(\"/home/lux/dev/Bachelor-2017/keras/dataset\", 400)\n",
    "model = load_model(\"/home/lux/dev/bachelor/BACHELOR-2017-SAFE/vgg16_ft_cam_normal.h5\")\n",
    "model.summary()"
   ]
  },
  {
   "cell_type": "code",
   "execution_count": 4,
   "metadata": {
    "collapsed": true,
    "deletable": true,
    "editable": true
   },
   "outputs": [],
   "source": [
    "# Ok here the optimizer is not loaded but it's not important as we only want to do predictions. No more training."
   ]
  },
  {
   "cell_type": "code",
   "execution_count": null,
   "metadata": {
    "collapsed": true,
    "deletable": true,
    "editable": true
   },
   "outputs": [],
   "source": []
  },
  {
   "cell_type": "code",
   "execution_count": 5,
   "metadata": {
    "collapsed": true,
    "deletable": true,
    "editable": true
   },
   "outputs": [],
   "source": [
    "i = 7"
   ]
  },
  {
   "cell_type": "code",
   "execution_count": 6,
   "metadata": {
    "collapsed": false,
    "deletable": true,
    "editable": true
   },
   "outputs": [
    {
     "data": {
      "image/png": "[encoded data removed]",
      "text/plain": [
       "<matplotlib.figure.Figure at 0x7f31833e7438>"
      ]
     },
     "metadata": {},
     "output_type": "display_data"
    },
    {
     "name": "stdout",
     "output_type": "stream",
     "text": [
      "predict input's shape: (1, 256, 256, 3)\n"
     ]
    }
   ],
   "source": [
    "predict_input = cv2.imread(dl.baseDirectory + \"/\" + dl.imgDataArray[i].directory + \"/\" +\n",
    "                                       dl.imgDataArray[i].name, cv2.IMREAD_COLOR)\n",
    "plt.imshow(predict_input)\n",
    "plt.show()\n",
    "predict_input = predict_input.astype('float32')\n",
    "predict_input = np.expand_dims(predict_input, axis=0)\n",
    "print(\"predict input's shape:\", predict_input.shape)\n",
    "predict_input = preprocess_input(predict_input)"
   ]
  },
  {
   "cell_type": "code",
   "execution_count": 7,
   "metadata": {
    "collapsed": false,
    "deletable": true,
    "editable": true,
    "scrolled": true
   },
   "outputs": [
    {
     "name": "stdout",
     "output_type": "stream",
     "text": [
      "('Apple___Apple_scab', 0)\n",
      "('Apple___Black_rot', 1)\n",
      "('Apple___Cedar_apple_rust', 2)\n",
      "('Apple___healthy', 3)\n",
      "('Blueberry___healthy', 4)\n",
      "('Cherry_(including_sour)___Powdery_mildew', 5)\n",
      "('Cherry_(including_sour)___healthy', 6)\n",
      "('Corn_(maize)___Cercospora_leaf_spot Gray_leaf_spot', 7)\n",
      "('Corn_(maize)___Common_rust_', 8)\n",
      "('Corn_(maize)___Northern_Leaf_Blight', 9)\n",
      "('Corn_(maize)___healthy', 10)\n",
      "('Grape___Black_rot', 11)\n",
      "('Grape___Esca_(Black_Measles)', 12)\n",
      "('Grape___Leaf_blight_(Isariopsis_Leaf_Spot)', 13)\n",
      "('Grape___healthy', 14)\n",
      "('Orange___Haunglongbing_(Citrus_greening)', 15)\n",
      "('Peach___Bacterial_spot', 16)\n",
      "('Peach___healthy', 17)\n",
      "('Pepper,_bell___Bacterial_spot', 18)\n",
      "('Pepper,_bell___healthy', 19)\n",
      "('Potato___Early_blight', 20)\n",
      "('Potato___Late_blight', 21)\n",
      "('Potato___healthy', 22)\n",
      "('Raspberry___healthy', 23)\n",
      "('Soybean___healthy', 24)\n",
      "('Squash___Powdery_mildew', 25)\n",
      "('Strawberry___Leaf_scorch', 26)\n",
      "('Strawberry___healthy', 27)\n",
      "('Tomato___Bacterial_spot', 28)\n",
      "('Tomato___Early_blight', 29)\n",
      "('Tomato___Late_blight', 30)\n",
      "('Tomato___Leaf_Mold', 31)\n",
      "('Tomato___Septoria_leaf_spot', 32)\n",
      "('Tomato___Spider_mites Two-spotted_spider_mite', 33)\n",
      "('Tomato___Target_Spot', 34)\n",
      "('Tomato___Tomato_Yellow_Leaf_Curl_Virus', 35)\n",
      "('Tomato___Tomato_mosaic_virus', 36)\n",
      "('Tomato___healthy', 37)\n"
     ]
    }
   ],
   "source": [
    "for d in dl.directories:\n",
    "    print(d)"
   ]
  },
  {
   "cell_type": "code",
   "execution_count": 8,
   "metadata": {
    "collapsed": false,
    "deletable": true,
    "editable": true
   },
   "outputs": [],
   "source": [
    "mapping = [('Tomato___Tomato_mosaic_virus', 0),\n",
    "           ('Tomato___Early_blight', 1),\n",
    "           ('Tomato___Target_Spot', 2), \n",
    "           ('Tomato___Late_blight', 3),\n",
    "           ('Soybean___healthy', 4),\n",
    "           ('Grape___Black_rot', 5),\n",
    "           ('Potato___healthy', 6),\n",
    "           ('Blueberry___healthy', 7),\n",
    "           ('Potato___Early_blight', 8),\n",
    "           ('Orange___Haunglongbing_(Citrus_greening)', 9),\n",
    "           ('Apple___Apple_scab', 10),\n",
    "           ('Squash___Powdery_mildew', 11),\n",
    "           ('Grape___healthy', 12),\n",
    "           ('Apple___Cedar_apple_rust', 13), \n",
    "           ('Strawberry___Leaf_scorch', 14),\n",
    "           ('Pepper,_bell___healthy', 15),\n",
    "           ('Peach___healthy', 16),\n",
    "           ('Raspberry___healthy', 17),\n",
    "           ('Cherry_(including_sour)___healthy', 18), \n",
    "           ('Grape___Esca_(Black_Measles)', 19),\n",
    "           ('Potato___Late_blight', 20),\n",
    "           ('Apple___healthy', 21), \n",
    "           ('Cherry_(including_sour)___Powdery_mildew', 22),\n",
    "           ('Corn_(maize)___Common_rust_', 23), \n",
    "           ('Tomato___Septoria_leaf_spot', 24),\n",
    "           ('Corn_(maize)___Cercospora_leaf_spot Gray_leaf_spot', 25),\n",
    "           ('Tomato___Bacterial_spot', 26),\n",
    "           ('Grape___Leaf_blight_(Isariopsis_Leaf_Spot)', 27),\n",
    "           ('Tomato___Spider_mites Two-spotted_spider_mite', 28),\n",
    "           ('Corn_(maize)___healthy', 29), \n",
    "           ('Tomato___healthy', 30),\n",
    "           ('Apple___Black_rot', 31), \n",
    "           ('Tomato___Leaf_Mold', 32),\n",
    "           ('Strawberry___healthy', 33),\n",
    "           ('Pepper,_bell___Bacterial_spot', 34),\n",
    "           ('Tomato___Tomato_Yellow_Leaf_Curl_Virus', 35),\n",
    "           ('Corn_(maize)___Northern_Leaf_Blight', 36), \n",
    "           ('Peach___Bacterial_spot', 37)]"
   ]
  },
  {
   "cell_type": "code",
   "execution_count": 9,
   "metadata": {
    "collapsed": false,
    "deletable": true,
    "editable": true
   },
   "outputs": [
    {
     "data": {
      "text/plain": [
       "(1, 256, 256, 3)"
      ]
     },
     "execution_count": 9,
     "metadata": {},
     "output_type": "execute_result"
    }
   ],
   "source": [
    "predict_input.shape"
   ]
  },
  {
   "cell_type": "code",
   "execution_count": 10,
   "metadata": {
    "collapsed": false,
    "deletable": true,
    "editable": true
   },
   "outputs": [
    {
     "name": "stdout",
     "output_type": "stream",
     "text": [
      "1/1 [==============================] - 1s\n"
     ]
    },
    {
     "data": {
      "text/plain": [
       "array([15])"
      ]
     },
     "execution_count": 10,
     "metadata": {},
     "output_type": "execute_result"
    }
   ],
   "source": [
    "predictions = model.predict(predict_input)\n",
    "model.predict_classes(predict_input)"
   ]
  },
  {
   "cell_type": "code",
   "execution_count": 11,
   "metadata": {
    "collapsed": false,
    "deletable": true,
    "editable": true
   },
   "outputs": [
    {
     "data": {
      "text/plain": [
       "array([  7.35466714e-14,   1.52311399e-12,   2.80819747e-12,\n",
       "         1.20504218e-10,   3.12304176e-11,   2.42245973e-10,\n",
       "         1.03312159e-08,   9.10775795e-13,   5.97391060e-14,\n",
       "         1.46905994e-11,   1.76020931e-09,   5.25109097e-15,\n",
       "         3.84617925e-15,   6.24861491e-14,   5.96083241e-14,\n",
       "         1.00000000e+00,   1.32619124e-10,   3.95214157e-12,\n",
       "         8.08111356e-10,   5.01631618e-11,   1.58857919e-17,\n",
       "         7.78718062e-11,   7.71554608e-12,   5.71992743e-14,\n",
       "         6.05053507e-10,   1.24077050e-15,   2.10954204e-16,\n",
       "         7.30624242e-12,   1.59771976e-13,   1.24715776e-15,\n",
       "         3.05101083e-11,   2.80450385e-16,   7.50123047e-17,\n",
       "         1.64509479e-13,   5.80484649e-16,   2.57438137e-09,\n",
       "         8.84001613e-19,   1.49818317e-11], dtype=float32)"
      ]
     },
     "execution_count": 11,
     "metadata": {},
     "output_type": "execute_result"
    }
   ],
   "source": [
    "predictions[0]"
   ]
  },
  {
   "cell_type": "code",
   "execution_count": 12,
   "metadata": {
    "collapsed": false,
    "deletable": true,
    "editable": true
   },
   "outputs": [
    {
     "name": "stdout",
     "output_type": "stream",
     "text": [
      "(38,)\n"
     ]
    },
    {
     "data": {
      "image/png": "[encoded data removed]",
      "text/plain": [
       "<matplotlib.figure.Figure at 0x7f31d8071e80>"
      ]
     },
     "metadata": {},
     "output_type": "display_data"
    }
   ],
   "source": [
    "print(predictions[0].shape)\n",
    "pp.plot(predictions[0])\n",
    "pp.show()"
   ]
  },
  {
   "cell_type": "code",
   "execution_count": 13,
   "metadata": {
    "collapsed": false,
    "deletable": true,
    "editable": true
   },
   "outputs": [
    {
     "data": {
      "text/plain": [
       "1.0"
      ]
     },
     "execution_count": 13,
     "metadata": {},
     "output_type": "execute_result"
    }
   ],
   "source": [
    "# predicted class value\n",
    "value = np.amax(predictions[0])\n",
    "value"
   ]
  },
  {
   "cell_type": "code",
   "execution_count": 14,
   "metadata": {
    "collapsed": false,
    "deletable": true,
    "editable": true
   },
   "outputs": [
    {
     "name": "stdout",
     "output_type": "stream",
     "text": [
      "predicted shample name =  78775e0f-0e3f-4bcc-b2f0-994fd7be87c4___UF.Citrus_HLB_Lab 1542.JPG\n",
      "predicted shample's class =  15\n",
      "predicted shample's directory =  Orange___Haunglongbing_(Citrus_greening)\n"
     ]
    },
    {
     "data": {
      "text/plain": [
       "(array([15]),)"
      ]
     },
     "execution_count": 14,
     "metadata": {},
     "output_type": "execute_result"
    }
   ],
   "source": [
    "# predicted class is \n",
    "print(\"predicted shample name = \", dl.imgDataArray[i].name)\n",
    "print(\"predicted shample's class = \", dl.imgDataArray[i].img_class)\n",
    "print(\"predicted shample's directory = \", dl.imgDataArray[i].directory)\n",
    "np.where(predictions[0]==value)"
   ]
  },
  {
   "cell_type": "code",
   "execution_count": 15,
   "metadata": {
    "collapsed": false,
    "deletable": true,
    "editable": true
   },
   "outputs": [
    {
     "name": "stdout",
     "output_type": "stream",
     "text": [
      "15\n"
     ]
    }
   ],
   "source": [
    "print(argmax(predictions))"
   ]
  },
  {
   "cell_type": "code",
   "execution_count": 16,
   "metadata": {
    "collapsed": false,
    "deletable": true,
    "editable": true
   },
   "outputs": [
    {
     "data": {
      "text/plain": [
       "'for i in range(dl.number_of_imgs_for_test, dl.number_of_imgs_for_test+600):\\n    for m in mapping:\\n        if m[0] == dl.imgDataArray[i].get_directory():\\n            dl.imgDataArray[i].img_class = m[1]'"
      ]
     },
     "execution_count": 16,
     "metadata": {},
     "output_type": "execute_result"
    }
   ],
   "source": [
    "\"\"\"for i in range(dl.number_of_imgs_for_test, dl.number_of_imgs_for_test+600):\n",
    "    for m in mapping:\n",
    "        if m[0] == dl.imgDataArray[i].get_directory():\n",
    "            dl.imgDataArray[i].img_class = m[1]\"\"\""
   ]
  },
  {
   "cell_type": "code",
   "execution_count": 17,
   "metadata": {
    "collapsed": false,
    "deletable": true,
    "editable": true
   },
   "outputs": [
    {
     "name": "stdout",
     "output_type": "stream",
     "text": [
      "s 20 TS 20\n"
     ]
    }
   ],
   "source": [
    "s = 0\n",
    "ts = 0\n",
    "for i in range(dl.number_of_imgs_for_test, dl.number_of_imgs_for_test+20):\n",
    "    predict_input = cv2.imread(dl.baseDirectory + \"/\" + dl.imgDataArray[i].directory + \"/\" +\n",
    "                                       dl.imgDataArray[i].name, cv2.IMREAD_COLOR)\n",
    "    predict_input = np.expand_dims(predict_input, axis=0)\n",
    "    predict_input = predict_input.astype('float32')\n",
    "    predict_input = preprocess_input(predict_input)\n",
    "    predictions = model.predict(predict_input)\n",
    "    value = argmax(predictions)\n",
    "    if(value == dl.imgDataArray[i].img_class):\n",
    "        s += 1\n",
    "    else:\n",
    "        print(\"Value mismatch-> expected\", dl.imgDataArray[i].img_class, \"but got\", value)\n",
    "    ts += 1\n",
    "print(\"s\", s, \"TS\", ts)"
   ]
  },
  {
   "cell_type": "code",
   "execution_count": 18,
   "metadata": {
    "collapsed": true,
    "deletable": true,
    "editable": true
   },
   "outputs": [],
   "source": [
    "w = model.get_layer(\"W\").get_weights()[0]"
   ]
  },
  {
   "cell_type": "code",
   "execution_count": 19,
   "metadata": {
    "collapsed": false,
    "deletable": true,
    "editable": true
   },
   "outputs": [
    {
     "data": {
      "text/plain": [
       "(38,)"
      ]
     },
     "execution_count": 19,
     "metadata": {},
     "output_type": "execute_result"
    }
   ],
   "source": [
    "w[0].shape"
   ]
  },
  {
   "cell_type": "code",
   "execution_count": 5,
   "metadata": {
    "collapsed": true,
    "deletable": true,
    "editable": true
   },
   "outputs": [],
   "source": [
    "def get_outputs_generator(model, layer_name):\n",
    "    \"\"\"\n",
    "    Gets the output generator of a specific layer of the model.\n",
    "\n",
    "    :param model: The model\n",
    "    :param layer_name: The layer's name\n",
    "    :return: the output generator (a function)\n",
    "    \"\"\"\n",
    "    layer_model = Model(\n",
    "        input=model.input,\n",
    "        output=model.get_layer(layer_name).output\n",
    "    )\n",
    "\n",
    "    return layer_model.predict\n"
   ]
  },
  {
   "cell_type": "code",
   "execution_count": 21,
   "metadata": {
    "collapsed": false,
    "deletable": true,
    "editable": true
   },
   "outputs": [
    {
     "name": "stderr",
     "output_type": "stream",
     "text": [
      "/usr/lib/python3.5/site-packages/ipykernel/__main__.py:11: UserWarning: Update your `Model` call to the Keras 2 API: `Model(outputs=Tensor(\"CA..., inputs=Tensor(\"in...)`\n"
     ]
    }
   ],
   "source": [
    " output_generator = get_outputs_generator(model, 'CAM')\n",
    "layer_outputs = output_generator(np.expand_dims(predict_input[0], axis=0))[0]\n"
   ]
  },
  {
   "cell_type": "code",
   "execution_count": 22,
   "metadata": {
    "collapsed": false,
    "deletable": true,
    "editable": true
   },
   "outputs": [
    {
     "data": {
      "text/plain": [
       "(512, 38)"
      ]
     },
     "execution_count": 22,
     "metadata": {},
     "output_type": "execute_result"
    }
   ],
   "source": [
    "w.shape"
   ]
  },
  {
   "cell_type": "code",
   "execution_count": 23,
   "metadata": {
    "collapsed": false,
    "deletable": true,
    "editable": true
   },
   "outputs": [],
   "source": [
    "im_width = 256"
   ]
  },
  {
   "cell_type": "code",
   "execution_count": 24,
   "metadata": {
    "collapsed": false,
    "deletable": true,
    "editable": true
   },
   "outputs": [
    {
     "data": {
      "image/png": "[encoded data removed]",
      "text/plain": [
       "<PIL.Image.Image image mode=L size=256x256 at 0x7F3182C87BE0>"
      ]
     },
     "execution_count": 24,
     "metadata": {},
     "output_type": "execute_result"
    }
   ],
   "source": [
    "layer_outputs.T[0]\n",
    "from scipy.misc import toimage\n",
    "img = toimage(layer_outputs.T[100])\n",
    "toimage(scipy.misc.imresize(img, (im_width, im_width)))\n"
   ]
  },
  {
   "cell_type": "code",
   "execution_count": 25,
   "metadata": {
    "collapsed": false,
    "deletable": true,
    "editable": true
   },
   "outputs": [
    {
     "data": {
      "image/png": "[encoded data removed]",
      "text/plain": [
       "<PIL.Image.Image image mode=L size=256x256 at 0x7F3182943CC0>"
      ]
     },
     "execution_count": 25,
     "metadata": {},
     "output_type": "execute_result"
    }
   ],
   "source": [
    "layer_outputs[:,:,0]\n",
    "#layer_outputs_alt = layer_outputs.reshape(512, 8, 8)\n",
    "#layer_outputs_alt.shape\n",
    "img = layer_outputs[:,:,0]\n",
    "toimage(scipy.misc.imresize(img, (im_width, im_width)))"
   ]
  },
  {
   "cell_type": "code",
   "execution_count": 26,
   "metadata": {
    "collapsed": false,
    "deletable": true,
    "editable": true
   },
   "outputs": [],
   "source": [
    "conv_resized = tf.image.resize_images(layer_outputs, [im_width, im_width], method=ResizeMethod.BICUBIC,)"
   ]
  },
  {
   "cell_type": "code",
   "execution_count": 27,
   "metadata": {
    "collapsed": false,
    "deletable": true,
    "editable": true
   },
   "outputs": [
    {
     "data": {
      "text/plain": [
       "(512, 38)"
      ]
     },
     "execution_count": 27,
     "metadata": {},
     "output_type": "execute_result"
    }
   ],
   "source": [
    "conv_resized\n",
    "w.shape"
   ]
  },
  {
   "cell_type": "code",
   "execution_count": 28,
   "metadata": {
    "collapsed": false,
    "deletable": true,
    "editable": true
   },
   "outputs": [],
   "source": [
    "maps = K.dot(conv_resized, tf.convert_to_tensor(w))"
   ]
  },
  {
   "cell_type": "code",
   "execution_count": 29,
   "metadata": {
    "collapsed": false,
    "deletable": true,
    "editable": true
   },
   "outputs": [
    {
     "data": {
      "text/plain": [
       "TensorShape([Dimension(256), Dimension(256), Dimension(38)])"
      ]
     },
     "execution_count": 29,
     "metadata": {},
     "output_type": "execute_result"
    }
   ],
   "source": [
    "#maps = tf.reshape(maps, (38, 256, 256))\n",
    "maps.shape"
   ]
  },
  {
   "cell_type": "code",
   "execution_count": 30,
   "metadata": {
    "collapsed": false,
    "deletable": true,
    "editable": true
   },
   "outputs": [],
   "source": [
    "tf_session = K.get_session()"
   ]
  },
  {
   "cell_type": "code",
   "execution_count": 31,
   "metadata": {
    "collapsed": false,
    "deletable": true,
    "editable": true
   },
   "outputs": [],
   "source": [
    "with tf_session:\n",
    "    maps_arr = maps.eval()"
   ]
  },
  {
   "cell_type": "code",
   "execution_count": 32,
   "metadata": {
    "collapsed": false,
    "deletable": true,
    "editable": true
   },
   "outputs": [
    {
     "data": {
      "text/plain": [
       "(256, 256, 38)"
      ]
     },
     "execution_count": 32,
     "metadata": {},
     "output_type": "execute_result"
    }
   ],
   "source": [
    "maps_arr.shape"
   ]
  },
  {
   "cell_type": "code",
   "execution_count": 33,
   "metadata": {
    "collapsed": false,
    "deletable": true,
    "editable": true
   },
   "outputs": [
    {
     "data": {
      "text/plain": [
       "(256, 38)"
      ]
     },
     "execution_count": 33,
     "metadata": {},
     "output_type": "execute_result"
    }
   ],
   "source": [
    "maps_arr[0].shape"
   ]
  },
  {
   "cell_type": "code",
   "execution_count": 40,
   "metadata": {
    "collapsed": true,
    "deletable": true,
    "editable": true
   },
   "outputs": [],
   "source": [
    "maps_arr_bu = maps_arr"
   ]
  },
  {
   "cell_type": "code",
   "execution_count": 41,
   "metadata": {
    "collapsed": false,
    "deletable": true,
    "editable": true
   },
   "outputs": [
    {
     "data": {
      "text/plain": [
       "(256, 38)"
      ]
     },
     "execution_count": 41,
     "metadata": {},
     "output_type": "execute_result"
    }
   ],
   "source": [
    "maps_arr[0].shape"
   ]
  },
  {
   "cell_type": "code",
   "execution_count": 42,
   "metadata": {
    "collapsed": false,
    "deletable": true,
    "editable": true
   },
   "outputs": [
    {
     "data": {
      "text/plain": [
       "array([[ 0.3538633 ,  1.        ,  0.83883882, ...,  0.76408958,\n",
       "         0.93537855,  0.20669228],\n",
       "       [ 0.35154974,  0.99671328,  0.83737385, ...,  0.76539522,\n",
       "         0.93174201,  0.21048525],\n",
       "       [ 0.34831801,  0.99381918,  0.83649909, ...,  0.76748711,\n",
       "         0.92868757,  0.21413442],\n",
       "       ..., \n",
       "       [ 0.16730517,  0.68911397,  0.98605055, ...,  0.95369458,\n",
       "         0.97435433,  0.05594769],\n",
       "       [ 0.16678721,  0.68931514,  0.98596698, ...,  0.95377076,\n",
       "         0.97356653,  0.05592501],\n",
       "       [ 0.16645992,  0.6894421 ,  0.98591423, ...,  0.95381892,\n",
       "         0.97306925,  0.05591086]], dtype=float32)"
      ]
     },
     "execution_count": 42,
     "metadata": {},
     "output_type": "execute_result"
    }
   ],
   "source": [
    "maps_arr[0]"
   ]
  },
  {
   "cell_type": "code",
   "execution_count": 43,
   "metadata": {
    "collapsed": false,
    "deletable": true,
    "editable": true
   },
   "outputs": [
    {
     "data": {
      "image/png": "[encoded data removed]",
      "text/plain": [
       "<PIL.Image.Image image mode=L size=256x256 at 0x7F318295A518>"
      ]
     },
     "execution_count": 43,
     "metadata": {},
     "output_type": "execute_result"
    }
   ],
   "source": [
    "from scipy.misc import toimage\n",
    "img = toimage(maps_arr_bu[:,:,3])\n",
    "img"
   ]
  },
  {
   "cell_type": "code",
   "execution_count": 6,
   "metadata": {
    "collapsed": false
   },
   "outputs": [
    {
     "name": "stderr",
     "output_type": "stream",
     "text": [
      "/usr/lib/python3.5/site-packages/ipykernel/__main__.py:11: UserWarning: Update your `Model` call to the Keras 2 API: `Model(outputs=Tensor(\"CA..., inputs=Tensor(\"in...)`\n"
     ]
    },
    {
     "data": {
      "text/plain": [
       "array([[[[  0.00000000e+00,   0.00000000e+00,   7.33670890e-01, ...,\n",
       "            2.75366068e+00,   0.00000000e+00,   0.00000000e+00],\n",
       "         [  0.00000000e+00,   0.00000000e+00,   1.42238522e+00, ...,\n",
       "            3.75939846e+00,   0.00000000e+00,   0.00000000e+00],\n",
       "         [  0.00000000e+00,   0.00000000e+00,   7.37959146e-01, ...,\n",
       "            3.58906007e+00,   0.00000000e+00,   0.00000000e+00],\n",
       "         ..., \n",
       "         [  3.79270434e+00,   0.00000000e+00,   8.03084493e-01, ...,\n",
       "            0.00000000e+00,   4.94238049e-01,   0.00000000e+00],\n",
       "         [  3.38948965e+00,   0.00000000e+00,   0.00000000e+00, ...,\n",
       "            0.00000000e+00,   1.14529610e+00,   0.00000000e+00],\n",
       "         [  1.99579990e+00,   0.00000000e+00,   0.00000000e+00, ...,\n",
       "            0.00000000e+00,   9.72812116e-01,   0.00000000e+00]],\n",
       "\n",
       "        [[  0.00000000e+00,   0.00000000e+00,   1.43457615e+00, ...,\n",
       "            4.80267429e+00,   0.00000000e+00,   0.00000000e+00],\n",
       "         [  0.00000000e+00,   0.00000000e+00,   1.99594605e+00, ...,\n",
       "            5.68024302e+00,   0.00000000e+00,   0.00000000e+00],\n",
       "         [  7.98001885e-01,   0.00000000e+00,   6.42968714e-01, ...,\n",
       "            3.65462875e+00,   0.00000000e+00,   0.00000000e+00],\n",
       "         ..., \n",
       "         [  7.32416725e+00,   0.00000000e+00,   2.72396445e-01, ...,\n",
       "            0.00000000e+00,   4.71396238e-01,   4.99361843e-01],\n",
       "         [  9.28292942e+00,   0.00000000e+00,   0.00000000e+00, ...,\n",
       "            0.00000000e+00,   1.35998380e+00,   2.13518888e-02],\n",
       "         [  5.86679316e+00,   0.00000000e+00,   3.70647520e-01, ...,\n",
       "            0.00000000e+00,   1.34202886e+00,   1.15053177e+00]],\n",
       "\n",
       "        [[  0.00000000e+00,   0.00000000e+00,   1.67720997e+00, ...,\n",
       "            5.84409761e+00,   0.00000000e+00,   0.00000000e+00],\n",
       "         [  4.38747704e-02,   0.00000000e+00,   1.78241634e+00, ...,\n",
       "            5.63418484e+00,   0.00000000e+00,   0.00000000e+00],\n",
       "         [  2.96825600e+00,   2.85192788e-01,   3.66404414e-01, ...,\n",
       "            2.63958764e+00,   0.00000000e+00,   0.00000000e+00],\n",
       "         ..., \n",
       "         [  6.18215513e+00,   0.00000000e+00,   2.06703350e-01, ...,\n",
       "            0.00000000e+00,   0.00000000e+00,   1.12165689e+00],\n",
       "         [  7.13668585e+00,   0.00000000e+00,   5.54517627e-01, ...,\n",
       "            0.00000000e+00,   0.00000000e+00,   8.67416918e-01],\n",
       "         [  5.85536623e+00,   0.00000000e+00,   0.00000000e+00, ...,\n",
       "            0.00000000e+00,   0.00000000e+00,   1.44512248e+00]],\n",
       "\n",
       "        ..., \n",
       "        [[  5.53207338e-01,   0.00000000e+00,   0.00000000e+00, ...,\n",
       "            8.44167042e+00,   3.67263389e+00,   9.12010074e-01],\n",
       "         [  2.95733881e+00,   0.00000000e+00,   0.00000000e+00, ...,\n",
       "            6.44211960e+00,   6.40844917e+00,   1.45589042e+00],\n",
       "         [  1.72525394e+00,   0.00000000e+00,   0.00000000e+00, ...,\n",
       "            0.00000000e+00,   1.91831958e+00,   0.00000000e+00],\n",
       "         ..., \n",
       "         [  5.37449694e+00,   0.00000000e+00,   7.99124599e-01, ...,\n",
       "            1.51616228e+00,   0.00000000e+00,   0.00000000e+00],\n",
       "         [  5.50855780e+00,   0.00000000e+00,   6.85969114e-01, ...,\n",
       "            2.66273767e-01,   0.00000000e+00,   5.28938890e-01],\n",
       "         [  4.31706524e+00,   0.00000000e+00,   0.00000000e+00, ...,\n",
       "            0.00000000e+00,   0.00000000e+00,   8.56997073e-01]],\n",
       "\n",
       "        [[  0.00000000e+00,   0.00000000e+00,   0.00000000e+00, ...,\n",
       "            7.80935049e+00,   4.09471083e+00,   0.00000000e+00],\n",
       "         [  0.00000000e+00,   0.00000000e+00,   0.00000000e+00, ...,\n",
       "            0.00000000e+00,   8.52041721e+00,   7.83495367e-01],\n",
       "         [  0.00000000e+00,   0.00000000e+00,   0.00000000e+00, ...,\n",
       "            0.00000000e+00,   2.91184974e+00,   0.00000000e+00],\n",
       "         ..., \n",
       "         [  3.50523949e+00,   0.00000000e+00,   1.16013455e+00, ...,\n",
       "            2.50855637e+00,   0.00000000e+00,   0.00000000e+00],\n",
       "         [  4.38375282e+00,   0.00000000e+00,   1.28945518e+00, ...,\n",
       "            5.17058372e-01,   0.00000000e+00,   0.00000000e+00],\n",
       "         [  3.32890701e+00,   0.00000000e+00,   0.00000000e+00, ...,\n",
       "            0.00000000e+00,   0.00000000e+00,   1.27110767e+00]],\n",
       "\n",
       "        [[  0.00000000e+00,   0.00000000e+00,   4.28370285e+00, ...,\n",
       "            4.59123945e+00,   5.11686563e+00,   0.00000000e+00],\n",
       "         [  0.00000000e+00,   0.00000000e+00,   5.56072998e+00, ...,\n",
       "            0.00000000e+00,   9.08001423e+00,   0.00000000e+00],\n",
       "         [  0.00000000e+00,   0.00000000e+00,   3.09093475e+00, ...,\n",
       "            0.00000000e+00,   4.08574629e+00,   0.00000000e+00],\n",
       "         ..., \n",
       "         [  1.66097939e+00,   0.00000000e+00,   1.09386718e+00, ...,\n",
       "            2.30454636e+00,   0.00000000e+00,   0.00000000e+00],\n",
       "         [  2.31279254e+00,   0.00000000e+00,   6.11310363e-01, ...,\n",
       "            8.14443946e-01,   0.00000000e+00,   1.05273858e-01],\n",
       "         [  1.87064815e+00,   0.00000000e+00,   4.77041043e-02, ...,\n",
       "            0.00000000e+00,   0.00000000e+00,   1.64195395e+00]]],\n",
       "\n",
       "\n",
       "       [[[  0.00000000e+00,   0.00000000e+00,   3.41347432e+00, ...,\n",
       "            7.64548874e+00,   0.00000000e+00,   0.00000000e+00],\n",
       "         [  0.00000000e+00,   0.00000000e+00,   3.86133289e+00, ...,\n",
       "            1.01312637e+01,   0.00000000e+00,   0.00000000e+00],\n",
       "         [  0.00000000e+00,   0.00000000e+00,   1.19347930e+00, ...,\n",
       "            8.40124607e+00,   0.00000000e+00,   0.00000000e+00],\n",
       "         ..., \n",
       "         [  0.00000000e+00,   0.00000000e+00,   3.07309055e+00, ...,\n",
       "            8.81931019e+00,   0.00000000e+00,   0.00000000e+00],\n",
       "         [  0.00000000e+00,   0.00000000e+00,   3.31784534e+00, ...,\n",
       "            9.26011467e+00,   0.00000000e+00,   0.00000000e+00],\n",
       "         [  0.00000000e+00,   0.00000000e+00,   2.30668068e+00, ...,\n",
       "            6.42662954e+00,   0.00000000e+00,   0.00000000e+00]],\n",
       "\n",
       "        [[  0.00000000e+00,   0.00000000e+00,   2.73055124e+00, ...,\n",
       "            8.90743828e+00,   0.00000000e+00,   0.00000000e+00],\n",
       "         [  0.00000000e+00,   0.00000000e+00,   1.16111302e+00, ...,\n",
       "            9.03164577e+00,   0.00000000e+00,   0.00000000e+00],\n",
       "         [  1.55472219e-01,   0.00000000e+00,   0.00000000e+00, ...,\n",
       "            5.02567577e+00,   0.00000000e+00,   0.00000000e+00],\n",
       "         ..., \n",
       "         [  0.00000000e+00,   0.00000000e+00,   0.00000000e+00, ...,\n",
       "            4.53195047e+00,   0.00000000e+00,   0.00000000e+00],\n",
       "         [  0.00000000e+00,   0.00000000e+00,   0.00000000e+00, ...,\n",
       "            5.35213566e+00,   0.00000000e+00,   0.00000000e+00],\n",
       "         [  0.00000000e+00,   0.00000000e+00,   0.00000000e+00, ...,\n",
       "            2.56041813e+00,   0.00000000e+00,   0.00000000e+00]],\n",
       "\n",
       "        [[  0.00000000e+00,   0.00000000e+00,   2.54001689e+00, ...,\n",
       "            7.43406773e+00,   0.00000000e+00,   5.47578931e-01],\n",
       "         [  6.17366612e-01,   0.00000000e+00,   2.18477774e+00, ...,\n",
       "            4.17988110e+00,   0.00000000e+00,   1.50236249e-01],\n",
       "         [  3.41273928e+00,   0.00000000e+00,   0.00000000e+00, ...,\n",
       "            0.00000000e+00,   4.34469059e-02,   0.00000000e+00],\n",
       "         ..., \n",
       "         [  4.00903797e+00,   0.00000000e+00,   0.00000000e+00, ...,\n",
       "            0.00000000e+00,   0.00000000e+00,   0.00000000e+00],\n",
       "         [  0.00000000e+00,   0.00000000e+00,   0.00000000e+00, ...,\n",
       "            0.00000000e+00,   0.00000000e+00,   0.00000000e+00],\n",
       "         [  0.00000000e+00,   0.00000000e+00,   0.00000000e+00, ...,\n",
       "            0.00000000e+00,   0.00000000e+00,   0.00000000e+00]],\n",
       "\n",
       "        ..., \n",
       "        [[  0.00000000e+00,   0.00000000e+00,   4.64633137e-01, ...,\n",
       "            9.48902607e+00,   0.00000000e+00,   0.00000000e+00],\n",
       "         [  0.00000000e+00,   0.00000000e+00,   1.21772432e+00, ...,\n",
       "            5.06902409e+00,   0.00000000e+00,   0.00000000e+00],\n",
       "         [  2.00804663e+00,   0.00000000e+00,   0.00000000e+00, ...,\n",
       "            0.00000000e+00,   0.00000000e+00,   0.00000000e+00],\n",
       "         ..., \n",
       "         [  0.00000000e+00,   0.00000000e+00,   0.00000000e+00, ...,\n",
       "            0.00000000e+00,   0.00000000e+00,   0.00000000e+00],\n",
       "         [  0.00000000e+00,   0.00000000e+00,   0.00000000e+00, ...,\n",
       "            0.00000000e+00,   0.00000000e+00,   0.00000000e+00],\n",
       "         [  0.00000000e+00,   0.00000000e+00,   0.00000000e+00, ...,\n",
       "            9.95544970e-01,   0.00000000e+00,   0.00000000e+00]],\n",
       "\n",
       "        [[  0.00000000e+00,   0.00000000e+00,   9.47045147e-01, ...,\n",
       "            1.27960234e+01,   0.00000000e+00,   0.00000000e+00],\n",
       "         [  0.00000000e+00,   0.00000000e+00,   5.12857318e-01, ...,\n",
       "            1.02025089e+01,   0.00000000e+00,   0.00000000e+00],\n",
       "         [  0.00000000e+00,   0.00000000e+00,   0.00000000e+00, ...,\n",
       "            0.00000000e+00,   0.00000000e+00,   0.00000000e+00],\n",
       "         ..., \n",
       "         [  0.00000000e+00,   0.00000000e+00,   0.00000000e+00, ...,\n",
       "            0.00000000e+00,   0.00000000e+00,   0.00000000e+00],\n",
       "         [  0.00000000e+00,   0.00000000e+00,   0.00000000e+00, ...,\n",
       "            4.11843586e+00,   0.00000000e+00,   0.00000000e+00],\n",
       "         [  0.00000000e+00,   0.00000000e+00,   0.00000000e+00, ...,\n",
       "            5.14393044e+00,   0.00000000e+00,   0.00000000e+00]],\n",
       "\n",
       "        [[  0.00000000e+00,   4.45981249e-02,   2.42387724e+00, ...,\n",
       "            1.22157574e+01,   0.00000000e+00,   0.00000000e+00],\n",
       "         [  0.00000000e+00,   0.00000000e+00,   1.53262067e+00, ...,\n",
       "            1.48506937e+01,   0.00000000e+00,   0.00000000e+00],\n",
       "         [  0.00000000e+00,   7.85655200e-01,   1.92629766e+00, ...,\n",
       "            5.51227760e+00,   0.00000000e+00,   0.00000000e+00],\n",
       "         ..., \n",
       "         [  0.00000000e+00,   2.90489316e+00,   0.00000000e+00, ...,\n",
       "            3.00829291e+00,   0.00000000e+00,   0.00000000e+00],\n",
       "         [  0.00000000e+00,   8.23273808e-02,   6.05296373e-01, ...,\n",
       "            1.17028885e+01,   0.00000000e+00,   0.00000000e+00],\n",
       "         [  0.00000000e+00,   0.00000000e+00,   1.80001986e+00, ...,\n",
       "            8.37693787e+00,   0.00000000e+00,   0.00000000e+00]]],\n",
       "\n",
       "\n",
       "       [[[  0.00000000e+00,   0.00000000e+00,   3.10655880e+00, ...,\n",
       "            4.10653353e+00,   0.00000000e+00,   0.00000000e+00],\n",
       "         [  0.00000000e+00,   0.00000000e+00,   1.37200439e+00, ...,\n",
       "            7.88376856e+00,   0.00000000e+00,   0.00000000e+00],\n",
       "         [  0.00000000e+00,   0.00000000e+00,   0.00000000e+00, ...,\n",
       "            9.20407677e+00,   0.00000000e+00,   0.00000000e+00],\n",
       "         ..., \n",
       "         [  6.14580572e-01,   0.00000000e+00,   0.00000000e+00, ...,\n",
       "            1.32814493e+01,   0.00000000e+00,   9.33638513e-01],\n",
       "         [  0.00000000e+00,   0.00000000e+00,   1.19669127e+00, ...,\n",
       "            1.20260544e+01,   0.00000000e+00,   6.28722548e-01],\n",
       "         [  0.00000000e+00,   0.00000000e+00,   3.28876710e+00, ...,\n",
       "            1.00514517e+01,   0.00000000e+00,   0.00000000e+00]],\n",
       "\n",
       "        [[  0.00000000e+00,   0.00000000e+00,   2.24864292e+00, ...,\n",
       "            4.93542004e+00,   0.00000000e+00,   0.00000000e+00],\n",
       "         [  0.00000000e+00,   0.00000000e+00,   2.12222382e-01, ...,\n",
       "            9.09560966e+00,   0.00000000e+00,   0.00000000e+00],\n",
       "         [  4.47790575e+00,   0.00000000e+00,   0.00000000e+00, ...,\n",
       "            6.91720533e+00,   0.00000000e+00,   2.03481078e+00],\n",
       "         ..., \n",
       "         [  3.42617989e+00,   7.62692094e-01,   0.00000000e+00, ...,\n",
       "            5.85786819e+00,   0.00000000e+00,   0.00000000e+00],\n",
       "         [  0.00000000e+00,   0.00000000e+00,   0.00000000e+00, ...,\n",
       "            3.17054725e+00,   0.00000000e+00,   0.00000000e+00],\n",
       "         [  0.00000000e+00,   0.00000000e+00,   1.51956439e+00, ...,\n",
       "            5.53217840e+00,   0.00000000e+00,   0.00000000e+00]],\n",
       "\n",
       "        [[  0.00000000e+00,   0.00000000e+00,   0.00000000e+00, ...,\n",
       "            4.21066999e-01,   0.00000000e+00,   0.00000000e+00],\n",
       "         [  0.00000000e+00,   0.00000000e+00,   0.00000000e+00, ...,\n",
       "            2.99317956e+00,   0.00000000e+00,   0.00000000e+00],\n",
       "         [  4.34202290e+00,   0.00000000e+00,   0.00000000e+00, ...,\n",
       "            0.00000000e+00,   0.00000000e+00,   4.94840527e+00],\n",
       "         ..., \n",
       "         [  3.94032979e+00,   3.35535979e+00,   0.00000000e+00, ...,\n",
       "            0.00000000e+00,   0.00000000e+00,   0.00000000e+00],\n",
       "         [  2.00474167e+00,   0.00000000e+00,   0.00000000e+00, ...,\n",
       "            0.00000000e+00,   0.00000000e+00,   0.00000000e+00],\n",
       "         [  0.00000000e+00,   0.00000000e+00,   1.00992143e+00, ...,\n",
       "            1.65494645e+00,   0.00000000e+00,   0.00000000e+00]],\n",
       "\n",
       "        ..., \n",
       "        [[  0.00000000e+00,   0.00000000e+00,   0.00000000e+00, ...,\n",
       "            0.00000000e+00,   0.00000000e+00,   0.00000000e+00],\n",
       "         [  0.00000000e+00,   2.16564822e+00,   0.00000000e+00, ...,\n",
       "            0.00000000e+00,   0.00000000e+00,   0.00000000e+00],\n",
       "         [  0.00000000e+00,   2.29610467e+00,   0.00000000e+00, ...,\n",
       "            0.00000000e+00,   0.00000000e+00,   0.00000000e+00],\n",
       "         ..., \n",
       "         [  0.00000000e+00,   0.00000000e+00,   0.00000000e+00, ...,\n",
       "            2.90330887e+00,   0.00000000e+00,   0.00000000e+00],\n",
       "         [  0.00000000e+00,   0.00000000e+00,   0.00000000e+00, ...,\n",
       "            3.70684892e-01,   0.00000000e+00,   0.00000000e+00],\n",
       "         [  0.00000000e+00,   0.00000000e+00,   0.00000000e+00, ...,\n",
       "            2.03345346e+00,   0.00000000e+00,   0.00000000e+00]],\n",
       "\n",
       "        [[  0.00000000e+00,   0.00000000e+00,   0.00000000e+00, ...,\n",
       "            0.00000000e+00,   0.00000000e+00,   0.00000000e+00],\n",
       "         [  0.00000000e+00,   0.00000000e+00,   0.00000000e+00, ...,\n",
       "            0.00000000e+00,   0.00000000e+00,   0.00000000e+00],\n",
       "         [  0.00000000e+00,   0.00000000e+00,   0.00000000e+00, ...,\n",
       "            0.00000000e+00,   0.00000000e+00,   0.00000000e+00],\n",
       "         ..., \n",
       "         [  0.00000000e+00,   0.00000000e+00,   0.00000000e+00, ...,\n",
       "            7.34373474e+00,   0.00000000e+00,   0.00000000e+00],\n",
       "         [  0.00000000e+00,   0.00000000e+00,   0.00000000e+00, ...,\n",
       "            4.67246914e+00,   0.00000000e+00,   0.00000000e+00],\n",
       "         [  0.00000000e+00,   0.00000000e+00,   2.07237029e+00, ...,\n",
       "            5.36955214e+00,   0.00000000e+00,   0.00000000e+00]],\n",
       "\n",
       "        [[  0.00000000e+00,   2.60808539e+00,   1.64986253e+00, ...,\n",
       "            1.15400195e+00,   0.00000000e+00,   0.00000000e+00],\n",
       "         [  0.00000000e+00,   1.82258046e+00,   3.59102227e-02, ...,\n",
       "            6.12718880e-01,   0.00000000e+00,   0.00000000e+00],\n",
       "         [  0.00000000e+00,   0.00000000e+00,   0.00000000e+00, ...,\n",
       "            0.00000000e+00,   0.00000000e+00,   0.00000000e+00],\n",
       "         ..., \n",
       "         [  0.00000000e+00,   0.00000000e+00,   4.75416780e-01, ...,\n",
       "            6.42171192e+00,   0.00000000e+00,   0.00000000e+00],\n",
       "         [  0.00000000e+00,   0.00000000e+00,   2.19530314e-01, ...,\n",
       "            6.48434496e+00,   0.00000000e+00,   0.00000000e+00],\n",
       "         [  0.00000000e+00,   8.24439883e-01,   1.97388422e+00, ...,\n",
       "            8.88019657e+00,   0.00000000e+00,   0.00000000e+00]]],\n",
       "\n",
       "\n",
       "       ..., \n",
       "       [[[  0.00000000e+00,   0.00000000e+00,   3.35010266e+00, ...,\n",
       "            7.76076603e+00,   0.00000000e+00,   0.00000000e+00],\n",
       "         [  0.00000000e+00,   0.00000000e+00,   3.46293759e+00, ...,\n",
       "            1.11858664e+01,   0.00000000e+00,   0.00000000e+00],\n",
       "         [  0.00000000e+00,   0.00000000e+00,   0.00000000e+00, ...,\n",
       "            1.09142895e+01,   2.00847983e+00,   0.00000000e+00],\n",
       "         ..., \n",
       "         [  0.00000000e+00,   0.00000000e+00,   5.56780672e+00, ...,\n",
       "            1.12375412e+01,   1.49419993e-01,   0.00000000e+00],\n",
       "         [  0.00000000e+00,   0.00000000e+00,   5.41140890e+00, ...,\n",
       "            1.15964851e+01,   0.00000000e+00,   0.00000000e+00],\n",
       "         [  0.00000000e+00,   0.00000000e+00,   2.24078870e+00, ...,\n",
       "            7.89251471e+00,   0.00000000e+00,   0.00000000e+00]],\n",
       "\n",
       "        [[  0.00000000e+00,   0.00000000e+00,   4.38694906e+00, ...,\n",
       "            8.51304722e+00,   0.00000000e+00,   0.00000000e+00],\n",
       "         [  0.00000000e+00,   0.00000000e+00,   2.61586308e+00, ...,\n",
       "            1.04907179e+01,   1.65447199e+00,   0.00000000e+00],\n",
       "         [  0.00000000e+00,   0.00000000e+00,   0.00000000e+00, ...,\n",
       "            1.07155657e+01,   8.32372093e+00,   0.00000000e+00],\n",
       "         ..., \n",
       "         [  0.00000000e+00,   0.00000000e+00,   3.45926428e+00, ...,\n",
       "            9.23178196e+00,   6.22752333e+00,   0.00000000e+00],\n",
       "         [  0.00000000e+00,   0.00000000e+00,   3.13267326e+00, ...,\n",
       "            9.11253357e+00,   0.00000000e+00,   0.00000000e+00],\n",
       "         [  0.00000000e+00,   0.00000000e+00,   7.73923397e-01, ...,\n",
       "            6.17840862e+00,   0.00000000e+00,   7.14166582e-01]],\n",
       "\n",
       "        [[  4.28401113e-01,   0.00000000e+00,   5.25306034e+00, ...,\n",
       "            5.03003597e+00,   5.71919441e-01,   0.00000000e+00],\n",
       "         [  1.04791844e+00,   0.00000000e+00,   4.02128410e+00, ...,\n",
       "            5.49004745e+00,   5.85760641e+00,   0.00000000e+00],\n",
       "         [  0.00000000e+00,   0.00000000e+00,   0.00000000e+00, ...,\n",
       "            3.90789509e+00,   1.56792336e+01,   0.00000000e+00],\n",
       "         ..., \n",
       "         [  0.00000000e+00,   0.00000000e+00,   6.26886511e+00, ...,\n",
       "            3.50820041e+00,   8.04130077e+00,   0.00000000e+00],\n",
       "         [  0.00000000e+00,   0.00000000e+00,   7.59098530e+00, ...,\n",
       "            1.38300681e+00,   1.72761476e+00,   0.00000000e+00],\n",
       "         [  0.00000000e+00,   0.00000000e+00,   4.07301664e+00, ...,\n",
       "            2.23082972e+00,   0.00000000e+00,   2.14788765e-01]],\n",
       "\n",
       "        ..., \n",
       "        [[  0.00000000e+00,   0.00000000e+00,   9.48648512e-01, ...,\n",
       "            2.97472310e+00,   8.11281681e+00,   0.00000000e+00],\n",
       "         [  0.00000000e+00,   0.00000000e+00,   2.07778740e+00, ...,\n",
       "            0.00000000e+00,   1.83012791e+01,   0.00000000e+00],\n",
       "         [  0.00000000e+00,   0.00000000e+00,   5.00406933e+00, ...,\n",
       "            0.00000000e+00,   2.07739563e+01,   0.00000000e+00],\n",
       "         ..., \n",
       "         [  5.76878023e+00,   0.00000000e+00,   9.87088299e+00, ...,\n",
       "            0.00000000e+00,   0.00000000e+00,   0.00000000e+00],\n",
       "         [  0.00000000e+00,   0.00000000e+00,   1.21393995e+01, ...,\n",
       "            4.98930603e-01,   0.00000000e+00,   0.00000000e+00],\n",
       "         [  0.00000000e+00,   0.00000000e+00,   9.59598255e+00, ...,\n",
       "            1.34628522e+00,   0.00000000e+00,   0.00000000e+00]],\n",
       "\n",
       "        [[  0.00000000e+00,   5.36225960e-02,   0.00000000e+00, ...,\n",
       "            3.36345410e+00,   1.82750714e+00,   0.00000000e+00],\n",
       "         [  0.00000000e+00,   0.00000000e+00,   5.11932135e+00, ...,\n",
       "            8.28924835e-01,   7.75875330e+00,   0.00000000e+00],\n",
       "         [  0.00000000e+00,   0.00000000e+00,   1.04913368e+01, ...,\n",
       "            1.22938442e+00,   8.50953960e+00,   0.00000000e+00],\n",
       "         ..., \n",
       "         [  0.00000000e+00,   0.00000000e+00,   1.35447941e+01, ...,\n",
       "            7.45153427e+00,   0.00000000e+00,   0.00000000e+00],\n",
       "         [  0.00000000e+00,   0.00000000e+00,   1.00578890e+01, ...,\n",
       "            3.90066791e+00,   0.00000000e+00,   0.00000000e+00],\n",
       "         [  0.00000000e+00,   0.00000000e+00,   9.08803463e+00, ...,\n",
       "            1.77361596e+00,   0.00000000e+00,   0.00000000e+00]],\n",
       "\n",
       "        [[  0.00000000e+00,   0.00000000e+00,   8.22623730e-01, ...,\n",
       "            3.90574241e+00,   0.00000000e+00,   0.00000000e+00],\n",
       "         [  0.00000000e+00,   0.00000000e+00,   2.82866859e+00, ...,\n",
       "            6.08045626e+00,   0.00000000e+00,   0.00000000e+00],\n",
       "         [  0.00000000e+00,   0.00000000e+00,   7.28768826e+00, ...,\n",
       "            5.78041458e+00,   0.00000000e+00,   0.00000000e+00],\n",
       "         ..., \n",
       "         [  0.00000000e+00,   3.68901515e+00,   7.86545515e+00, ...,\n",
       "            9.08041573e+00,   0.00000000e+00,   0.00000000e+00],\n",
       "         [  0.00000000e+00,   2.73692459e-01,   5.75488234e+00, ...,\n",
       "            6.38163042e+00,   0.00000000e+00,   0.00000000e+00],\n",
       "         [  0.00000000e+00,   0.00000000e+00,   5.42797565e+00, ...,\n",
       "            4.40911436e+00,   0.00000000e+00,   0.00000000e+00]]],\n",
       "\n",
       "\n",
       "       [[[  0.00000000e+00,   0.00000000e+00,   2.46800423e+00, ...,\n",
       "            6.27356100e+00,   0.00000000e+00,   0.00000000e+00],\n",
       "         [  0.00000000e+00,   0.00000000e+00,   4.30327129e+00, ...,\n",
       "            1.02903442e+01,   0.00000000e+00,   0.00000000e+00],\n",
       "         [  0.00000000e+00,   0.00000000e+00,   3.84203506e+00, ...,\n",
       "            1.12877035e+01,   0.00000000e+00,   0.00000000e+00],\n",
       "         ..., \n",
       "         [  0.00000000e+00,   4.35447581e-02,   2.81366992e+00, ...,\n",
       "            8.68088818e+00,   0.00000000e+00,   0.00000000e+00],\n",
       "         [  0.00000000e+00,   0.00000000e+00,   0.00000000e+00, ...,\n",
       "            4.05991507e+00,   0.00000000e+00,   0.00000000e+00],\n",
       "         [  0.00000000e+00,   0.00000000e+00,   0.00000000e+00, ...,\n",
       "            0.00000000e+00,   2.38976741e+00,   0.00000000e+00]],\n",
       "\n",
       "        [[  0.00000000e+00,   0.00000000e+00,   2.52503943e+00, ...,\n",
       "            7.93513870e+00,   0.00000000e+00,   0.00000000e+00],\n",
       "         [  0.00000000e+00,   0.00000000e+00,   2.33737588e+00, ...,\n",
       "            8.39090633e+00,   0.00000000e+00,   0.00000000e+00],\n",
       "         [  0.00000000e+00,   0.00000000e+00,   0.00000000e+00, ...,\n",
       "            6.17564535e+00,   0.00000000e+00,   0.00000000e+00],\n",
       "         ..., \n",
       "         [  8.38501692e-01,   0.00000000e+00,   0.00000000e+00, ...,\n",
       "            2.37859869e+00,   0.00000000e+00,   0.00000000e+00],\n",
       "         [  0.00000000e+00,   0.00000000e+00,   0.00000000e+00, ...,\n",
       "            0.00000000e+00,   0.00000000e+00,   0.00000000e+00],\n",
       "         [  0.00000000e+00,   0.00000000e+00,   0.00000000e+00, ...,\n",
       "            0.00000000e+00,   3.78319573e+00,   0.00000000e+00]],\n",
       "\n",
       "        [[  0.00000000e+00,   0.00000000e+00,   1.15563405e+00, ...,\n",
       "            3.92604661e+00,   0.00000000e+00,   0.00000000e+00],\n",
       "         [  1.56419551e+00,   0.00000000e+00,   1.76946610e-01, ...,\n",
       "            3.12432504e+00,   0.00000000e+00,   0.00000000e+00],\n",
       "         [  1.51765668e+00,   0.00000000e+00,   0.00000000e+00, ...,\n",
       "            0.00000000e+00,   0.00000000e+00,   0.00000000e+00],\n",
       "         ..., \n",
       "         [  0.00000000e+00,   0.00000000e+00,   0.00000000e+00, ...,\n",
       "            0.00000000e+00,   8.80359948e-01,   0.00000000e+00],\n",
       "         [  0.00000000e+00,   1.20686924e+00,   0.00000000e+00, ...,\n",
       "            0.00000000e+00,   0.00000000e+00,   0.00000000e+00],\n",
       "         [  0.00000000e+00,   0.00000000e+00,   0.00000000e+00, ...,\n",
       "            0.00000000e+00,   4.67736912e+00,   0.00000000e+00]],\n",
       "\n",
       "        ..., \n",
       "        [[  0.00000000e+00,   9.80423212e-01,   0.00000000e+00, ...,\n",
       "            3.42546523e-01,   0.00000000e+00,   0.00000000e+00],\n",
       "         [  0.00000000e+00,   1.68201172e+00,   0.00000000e+00, ...,\n",
       "            0.00000000e+00,   5.36406136e+00,   0.00000000e+00],\n",
       "         [  0.00000000e+00,   1.84160745e+00,   0.00000000e+00, ...,\n",
       "            0.00000000e+00,   5.74704504e+00,   0.00000000e+00],\n",
       "         ..., \n",
       "         [  0.00000000e+00,   0.00000000e+00,   0.00000000e+00, ...,\n",
       "            0.00000000e+00,   0.00000000e+00,   0.00000000e+00],\n",
       "         [  0.00000000e+00,   0.00000000e+00,   0.00000000e+00, ...,\n",
       "            0.00000000e+00,   0.00000000e+00,   0.00000000e+00],\n",
       "         [  0.00000000e+00,   0.00000000e+00,   0.00000000e+00, ...,\n",
       "            0.00000000e+00,   1.28268842e-02,   0.00000000e+00]],\n",
       "\n",
       "        [[  0.00000000e+00,   0.00000000e+00,   0.00000000e+00, ...,\n",
       "            0.00000000e+00,   0.00000000e+00,   0.00000000e+00],\n",
       "         [  0.00000000e+00,   0.00000000e+00,   0.00000000e+00, ...,\n",
       "            0.00000000e+00,   0.00000000e+00,   0.00000000e+00],\n",
       "         [  0.00000000e+00,   0.00000000e+00,   0.00000000e+00, ...,\n",
       "            0.00000000e+00,   3.87187314e+00,   0.00000000e+00],\n",
       "         ..., \n",
       "         [  0.00000000e+00,   0.00000000e+00,   0.00000000e+00, ...,\n",
       "            3.07009041e-01,   0.00000000e+00,   0.00000000e+00],\n",
       "         [  0.00000000e+00,   0.00000000e+00,   0.00000000e+00, ...,\n",
       "            0.00000000e+00,   0.00000000e+00,   0.00000000e+00],\n",
       "         [  0.00000000e+00,   0.00000000e+00,   0.00000000e+00, ...,\n",
       "            0.00000000e+00,   0.00000000e+00,   0.00000000e+00]],\n",
       "\n",
       "        [[  0.00000000e+00,   0.00000000e+00,   2.05017829e+00, ...,\n",
       "            0.00000000e+00,   0.00000000e+00,   0.00000000e+00],\n",
       "         [  0.00000000e+00,   0.00000000e+00,   4.18325037e-01, ...,\n",
       "            0.00000000e+00,   7.18556046e-01,   0.00000000e+00],\n",
       "         [  0.00000000e+00,   0.00000000e+00,   0.00000000e+00, ...,\n",
       "            0.00000000e+00,   8.50873089e+00,   0.00000000e+00],\n",
       "         ..., \n",
       "         [  0.00000000e+00,   0.00000000e+00,   0.00000000e+00, ...,\n",
       "            1.37489721e-01,   0.00000000e+00,   0.00000000e+00],\n",
       "         [  0.00000000e+00,   0.00000000e+00,   0.00000000e+00, ...,\n",
       "            1.41290104e+00,   0.00000000e+00,   0.00000000e+00],\n",
       "         [  0.00000000e+00,   3.52838784e-01,   2.33505559e+00, ...,\n",
       "            4.84223700e+00,   0.00000000e+00,   0.00000000e+00]]],\n",
       "\n",
       "\n",
       "       [[[  0.00000000e+00,   0.00000000e+00,   9.39922750e-01, ...,\n",
       "            2.28989100e+00,   0.00000000e+00,   0.00000000e+00],\n",
       "         [  0.00000000e+00,   0.00000000e+00,   5.18510580e-01, ...,\n",
       "            2.81193233e+00,   0.00000000e+00,   0.00000000e+00],\n",
       "         [  1.76863766e+00,   0.00000000e+00,   0.00000000e+00, ...,\n",
       "            2.47170305e+00,   0.00000000e+00,   0.00000000e+00],\n",
       "         ..., \n",
       "         [  2.47915316e+00,   0.00000000e+00,   0.00000000e+00, ...,\n",
       "            1.45768344e+00,   0.00000000e+00,   0.00000000e+00],\n",
       "         [  1.49686718e+00,   0.00000000e+00,   0.00000000e+00, ...,\n",
       "            1.74034727e+00,   0.00000000e+00,   0.00000000e+00],\n",
       "         [  9.53214943e-01,   0.00000000e+00,   0.00000000e+00, ...,\n",
       "            8.10432732e-01,   0.00000000e+00,   4.24057841e-02]],\n",
       "\n",
       "        [[  5.93535602e-01,   1.08800745e-02,   6.90035760e-01, ...,\n",
       "            2.44401526e+00,   0.00000000e+00,   0.00000000e+00],\n",
       "         [  1.75600564e+00,   2.27054074e-01,   0.00000000e+00, ...,\n",
       "            1.90796399e+00,   0.00000000e+00,   0.00000000e+00],\n",
       "         [  3.10907388e+00,   0.00000000e+00,   0.00000000e+00, ...,\n",
       "            1.49390328e+00,   0.00000000e+00,   0.00000000e+00],\n",
       "         ..., \n",
       "         [  4.59119081e+00,   0.00000000e+00,   0.00000000e+00, ...,\n",
       "            0.00000000e+00,   0.00000000e+00,   0.00000000e+00],\n",
       "         [  4.29789352e+00,   0.00000000e+00,   0.00000000e+00, ...,\n",
       "            1.43901899e-01,   0.00000000e+00,   0.00000000e+00],\n",
       "         [  3.62422538e+00,   0.00000000e+00,   0.00000000e+00, ...,\n",
       "            0.00000000e+00,   0.00000000e+00,   1.21969414e+00]],\n",
       "\n",
       "        [[  2.80040860e+00,   0.00000000e+00,   0.00000000e+00, ...,\n",
       "            6.46669209e-01,   0.00000000e+00,   9.83353078e-01],\n",
       "         [  4.65212107e+00,   0.00000000e+00,   0.00000000e+00, ...,\n",
       "            0.00000000e+00,   0.00000000e+00,   0.00000000e+00],\n",
       "         [  3.71453333e+00,   0.00000000e+00,   0.00000000e+00, ...,\n",
       "            0.00000000e+00,   0.00000000e+00,   0.00000000e+00],\n",
       "         ..., \n",
       "         [  5.92905140e+00,   0.00000000e+00,   0.00000000e+00, ...,\n",
       "            0.00000000e+00,   0.00000000e+00,   0.00000000e+00],\n",
       "         [  6.49609470e+00,   0.00000000e+00,   0.00000000e+00, ...,\n",
       "            0.00000000e+00,   0.00000000e+00,   0.00000000e+00],\n",
       "         [  5.65019560e+00,   0.00000000e+00,   0.00000000e+00, ...,\n",
       "            0.00000000e+00,   0.00000000e+00,   1.54192305e+00]],\n",
       "\n",
       "        ..., \n",
       "        [[  2.91158819e+00,   0.00000000e+00,   0.00000000e+00, ...,\n",
       "            1.04350817e+00,   0.00000000e+00,   0.00000000e+00],\n",
       "         [  2.53504014e+00,   0.00000000e+00,   0.00000000e+00, ...,\n",
       "            0.00000000e+00,   0.00000000e+00,   0.00000000e+00],\n",
       "         [  2.07297206e+00,   0.00000000e+00,   0.00000000e+00, ...,\n",
       "            6.72190368e-01,   0.00000000e+00,   0.00000000e+00],\n",
       "         ..., \n",
       "         [  3.46892595e+00,   0.00000000e+00,   0.00000000e+00, ...,\n",
       "            2.30565548e+00,   0.00000000e+00,   0.00000000e+00],\n",
       "         [  2.93429112e+00,   0.00000000e+00,   0.00000000e+00, ...,\n",
       "            3.25453234e+00,   0.00000000e+00,   0.00000000e+00],\n",
       "         [  1.40963101e+00,   0.00000000e+00,   0.00000000e+00, ...,\n",
       "            0.00000000e+00,   0.00000000e+00,   0.00000000e+00]],\n",
       "\n",
       "        [[  2.12477255e+00,   0.00000000e+00,   4.13609855e-02, ...,\n",
       "            1.99168241e+00,   0.00000000e+00,   0.00000000e+00],\n",
       "         [  3.81522274e+00,   0.00000000e+00,   0.00000000e+00, ...,\n",
       "            3.69334519e-01,   0.00000000e+00,   0.00000000e+00],\n",
       "         [  3.40239000e+00,   0.00000000e+00,   0.00000000e+00, ...,\n",
       "            1.26803890e-01,   0.00000000e+00,   0.00000000e+00],\n",
       "         ..., \n",
       "         [  3.36449313e+00,   0.00000000e+00,   0.00000000e+00, ...,\n",
       "            3.63269210e+00,   0.00000000e+00,   0.00000000e+00],\n",
       "         [  2.40503883e+00,   0.00000000e+00,   0.00000000e+00, ...,\n",
       "            2.87676287e+00,   0.00000000e+00,   0.00000000e+00],\n",
       "         [  2.75010371e+00,   0.00000000e+00,   0.00000000e+00, ...,\n",
       "            4.45380390e-01,   0.00000000e+00,   0.00000000e+00]],\n",
       "\n",
       "        [[  1.08952212e+00,   9.55342352e-02,   2.83425719e-01, ...,\n",
       "            1.60391092e+00,   0.00000000e+00,   0.00000000e+00],\n",
       "         [  2.43949246e+00,   7.53626879e-03,   0.00000000e+00, ...,\n",
       "            3.85052919e-01,   0.00000000e+00,   0.00000000e+00],\n",
       "         [  2.21950889e+00,   0.00000000e+00,   0.00000000e+00, ...,\n",
       "            0.00000000e+00,   0.00000000e+00,   0.00000000e+00],\n",
       "         ..., \n",
       "         [  2.11417294e+00,   0.00000000e+00,   0.00000000e+00, ...,\n",
       "            2.34111381e+00,   0.00000000e+00,   0.00000000e+00],\n",
       "         [  2.59143305e+00,   0.00000000e+00,   0.00000000e+00, ...,\n",
       "            2.78055763e+00,   0.00000000e+00,   0.00000000e+00],\n",
       "         [  1.84940040e+00,   0.00000000e+00,   5.27510583e-01, ...,\n",
       "            1.15462923e+00,   0.00000000e+00,   0.00000000e+00]]]], dtype=float32)"
      ]
     },
     "execution_count": 6,
     "metadata": {},
     "output_type": "execute_result"
    }
   ],
   "source": [
    "predict_input =[]\n",
    "for i in range(0, 10):\n",
    "    predict_input.append(cv2.imread(dl.baseDirectory + \"/\" + dl.imgDataArray[i].directory + \"/\" +\n",
    "                                       dl.imgDataArray[i].name, cv2.IMREAD_COLOR))\n",
    "predict_input = np.asarray(predict_input)\n",
    "predict_input = predict_input.astype('float32')\n",
    "predict_input = preprocess_input(predict_input)\n",
    "o_generator = get_outputs_generator(model, 'CAM')\n",
    "layer_outputs = o_generator(predict_input)\n",
    "layer_outputs"
   ]
  },
  {
   "cell_type": "code",
   "execution_count": 7,
   "metadata": {
    "collapsed": false
   },
   "outputs": [
    {
     "data": {
      "text/plain": [
       "(10, 8, 8, 512)"
      ]
     },
     "execution_count": 7,
     "metadata": {},
     "output_type": "execute_result"
    }
   ],
   "source": [
    "layer_outputs.shape"
   ]
  },
  {
   "cell_type": "code",
   "execution_count": 10,
   "metadata": {
    "collapsed": true
   },
   "outputs": [],
   "source": [
    "w = model.get_layer(\"W\").get_weights()[0]"
   ]
  },
  {
   "cell_type": "code",
   "execution_count": 11,
   "metadata": {
    "collapsed": false
   },
   "outputs": [
    {
     "data": {
      "text/plain": [
       "(512, 38)"
      ]
     },
     "execution_count": 11,
     "metadata": {},
     "output_type": "execute_result"
    }
   ],
   "source": [
    "w.shape"
   ]
  },
  {
   "cell_type": "code",
   "execution_count": 12,
   "metadata": {
    "collapsed": true
   },
   "outputs": [],
   "source": [
    "im_width = 256\n",
    "conv_resized = tf.image.resize_images(layer_outputs, [im_width, im_width], method=ResizeMethod.BICUBIC, )"
   ]
  },
  {
   "cell_type": "code",
   "execution_count": 13,
   "metadata": {
    "collapsed": false
   },
   "outputs": [
    {
     "data": {
      "text/plain": [
       "TensorShape([Dimension(10), Dimension(256), Dimension(256), Dimension(512)])"
      ]
     },
     "execution_count": 13,
     "metadata": {},
     "output_type": "execute_result"
    }
   ],
   "source": [
    "conv_resized.shape"
   ]
  },
  {
   "cell_type": "code",
   "execution_count": 14,
   "metadata": {
    "collapsed": true
   },
   "outputs": [],
   "source": [
    "maps = K.dot(conv_resized, tf.convert_to_tensor(w))"
   ]
  },
  {
   "cell_type": "code",
   "execution_count": 15,
   "metadata": {
    "collapsed": false
   },
   "outputs": [
    {
     "data": {
      "text/plain": [
       "TensorShape([Dimension(10), Dimension(256), Dimension(256), Dimension(38)])"
      ]
     },
     "execution_count": 15,
     "metadata": {},
     "output_type": "execute_result"
    }
   ],
   "source": [
    "maps.shape"
   ]
  },
  {
   "cell_type": "code",
   "execution_count": 16,
   "metadata": {
    "collapsed": true
   },
   "outputs": [],
   "source": [
    "tf_session = K.get_session()"
   ]
  },
  {
   "cell_type": "code",
   "execution_count": 17,
   "metadata": {
    "collapsed": true
   },
   "outputs": [],
   "source": [
    "with tf_session:\n",
    "    maps_arr = maps.eval()"
   ]
  },
  {
   "cell_type": "code",
   "execution_count": 18,
   "metadata": {
    "collapsed": false
   },
   "outputs": [
    {
     "data": {
      "text/plain": [
       "(10, 256, 256, 38)"
      ]
     },
     "execution_count": 18,
     "metadata": {},
     "output_type": "execute_result"
    }
   ],
   "source": [
    "maps_arr.shape"
   ]
  },
  {
   "cell_type": "code",
   "execution_count": 36,
   "metadata": {
    "collapsed": false
   },
   "outputs": [
    {
     "data": {
      "image/png": "[encoded data removed]",
      "text/plain": [
       "<PIL.Image.Image image mode=L size=256x256 at 0x7F381140EB70>"
      ]
     },
     "execution_count": 36,
     "metadata": {},
     "output_type": "execute_result"
    }
   ],
   "source": [
    "from scipy.misc import toimage\n",
    "toimage(maps_arr[4,:,:,37])"
   ]
  },
  {
   "cell_type": "code",
   "execution_count": null,
   "metadata": {
    "collapsed": true
   },
   "outputs": [],
   "source": []
  }
 ],
 "metadata": {
  "kernelspec": {
   "display_name": "Python 3",
   "language": "python",
   "name": "python3"
  },
  "language_info": {
   "codemirror_mode": {
    "name": "ipython",
    "version": 3
   },
   "file_extension": ".py",
   "mimetype": "text/x-python",
   "name": "python",
   "nbconvert_exporter": "python",
   "pygments_lexer": "ipython3",
   "version": "3.5.3"
  }
 },
 "nbformat": 4,
 "nbformat_minor": 2
}

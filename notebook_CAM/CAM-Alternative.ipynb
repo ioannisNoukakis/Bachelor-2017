{
 "cells": [
  {
   "cell_type": "code",
   "execution_count": 1,
   "metadata": {
    "collapsed": false,
    "deletable": true,
    "editable": true
   },
   "outputs": [
    {
     "name": "stderr",
     "output_type": "stream",
     "text": [
      "Using TensorFlow backend.\n"
     ]
    }
   ],
   "source": [
    "from keras import applications, optimizers\n",
    "from keras.layers import GlobalAveragePooling2D, Dense\n",
    "from keras.models import Sequential\n",
    "from keras.datasets import mnist\n",
    "from keras.layers.convolutional import Convolution2D\n",
    "from keras import backend as K\n",
    "import keras\n",
    "import numpy as np\n",
    "from keras.applications.imagenet_utils import preprocess_input\n",
    "from img_loader import DatasetLoader\n",
    "from keras.utils import np_utils\n",
    "from keras.preprocessing import image\n",
    "from keras.models import Model\n",
    "import matplotlib.pyplot as plt\n",
    "import matplotlib.image as mpimg\n",
    "from PIL import Image, ImageOps\n",
    "from sklearn.preprocessing import MinMaxScaler\n",
    "import scipy.misc\n",
    "from PIL import ImageEnhance\n",
    "import cv2\n",
    "import matplotlib.pyplot as pp\n",
    "from keras.models import load_model, save_model\n",
    "import random\n",
    "from numpy import argmax"
   ]
  },
  {
   "cell_type": "code",
   "execution_count": 2,
   "metadata": {
    "collapsed": true,
    "deletable": true,
    "editable": true
   },
   "outputs": [],
   "source": [
    "%matplotlib inline\n",
    "np.random.seed(123)  # for reproducibility\n",
    "random.seed(123)"
   ]
  },
  {
   "cell_type": "code",
   "execution_count": 3,
   "metadata": {
    "collapsed": false,
    "deletable": true,
    "editable": true
   },
   "outputs": [
    {
     "name": "stdout",
     "output_type": "stream",
     "text": [
      "DATASET LOADER] Discovering dataset...\n",
      "DATASET LOADER] \n",
      "10 classes found.\n",
      " 68992 images found.\n",
      "DATASET LOADER] Shuffling order...\n",
      "DATASET LOADER] \n",
      "Ready for loading!\n",
      " 51744 for training and 17248 for testing\n"
     ]
    }
   ],
   "source": [
    "dl = DatasetLoader('/home/lux/dev/Bachelor-2017/keras/mnist_png', 10000)"
   ]
  },
  {
   "cell_type": "code",
   "execution_count": 4,
   "metadata": {
    "collapsed": false,
    "deletable": true,
    "editable": true,
    "scrolled": true
   },
   "outputs": [
    {
     "data": {
      "text/plain": [
       "True"
      ]
     },
     "execution_count": 4,
     "metadata": {},
     "output_type": "execute_result"
    }
   ],
   "source": [
    "i = 0\n",
    "img = cv2.imread(dl.baseDirectory + \"/\" + dl.imgDataArray[i].directory + \"/\" +\n",
    "                                       dl.imgDataArray[i].name, cv2.IMREAD_COLOR)\n",
    "i = 1\n",
    "img2 = cv2.imread(dl.baseDirectory + \"/\" + dl.imgDataArray[i].directory + \"/\" +\n",
    "                                       dl.imgDataArray[i].name, cv2.IMREAD_COLOR)\n",
    "img = img.astype('float32') # Okay don't worry it's juste the web viewer that messes up with the colors nothing else.\n",
    "cv2.imwrite('out.png', img)"
   ]
  },
  {
   "cell_type": "code",
   "execution_count": 5,
   "metadata": {
    "collapsed": false,
    "deletable": true,
    "editable": true
   },
   "outputs": [
    {
     "data": {
      "text/plain": [
       "True"
      ]
     },
     "execution_count": 5,
     "metadata": {},
     "output_type": "execute_result"
    }
   ],
   "source": [
    "img2 = img * 0.5\n",
    "cv2.imwrite('out2.png', img2)"
   ]
  },
  {
   "cell_type": "code",
   "execution_count": 6,
   "metadata": {
    "collapsed": false,
    "deletable": true,
    "editable": true
   },
   "outputs": [
    {
     "data": {
      "text/plain": [
       "True"
      ]
     },
     "execution_count": 6,
     "metadata": {},
     "output_type": "execute_result"
    }
   ],
   "source": [
    "img3 = img + img2\n",
    "cv2.imwrite('out3.png', img3)"
   ]
  },
  {
   "cell_type": "code",
   "execution_count": 7,
   "metadata": {
    "collapsed": false,
    "deletable": true,
    "editable": true,
    "scrolled": true
   },
   "outputs": [
    {
     "name": "stderr",
     "output_type": "stream",
     "text": [
      "/usr/lib64/python3.5/site-packages/keras/models.py:281: UserWarning: Error in loading the saved optimizer state. As a result, your model is starting with a freshly initialized optimizer.\n",
      "  warnings.warn('Error in loading the saved optimizer '\n"
     ]
    }
   ],
   "source": [
    "model = load_model(\"/home/lux/dev/Bachelor-2017/keras/mnist.h5\")"
   ]
  },
  {
   "cell_type": "code",
   "execution_count": 24,
   "metadata": {
    "collapsed": false
   },
   "outputs": [
    {
     "data": {
      "text/plain": [
       "[array([[ -1.69540837e-01,   1.01465225e-01,   1.26929581e-01,\n",
       "           1.17718138e-01,  -1.37613907e-01,   2.41278023e-01,\n",
       "          -2.78581411e-01,   2.49608979e-01,   1.82236806e-01,\n",
       "          -2.33479798e-01],\n",
       "        [  1.53826535e-01,  -1.63081154e-01,  -4.15028743e-02,\n",
       "           2.57200673e-02,  -1.02355346e-01,   2.79588640e-01,\n",
       "          -1.10236041e-01,  -2.72446033e-02,   8.10337588e-02,\n",
       "           8.48360732e-02],\n",
       "        [ -1.37318835e-01,  -1.65765453e-02,   1.94716044e-02,\n",
       "           9.91193727e-02,   1.05551757e-01,   4.51466218e-02,\n",
       "          -7.32123479e-02,  -7.12150857e-02,   5.84463924e-02,\n",
       "           1.19901307e-01],\n",
       "        [ -1.59582943e-01,   6.63695559e-02,  -1.22805536e-01,\n",
       "          -2.79621691e-01,   1.23497002e-01,  -7.02556819e-02,\n",
       "           1.69604838e-01,   8.06085840e-02,   1.03356510e-01,\n",
       "          -2.26449743e-01],\n",
       "        [  1.42019510e-01,   1.27802655e-01,   1.92950368e-01,\n",
       "          -6.27806364e-03,   1.00225449e-01,  -8.54364783e-02,\n",
       "           8.88245329e-02,  -2.49413475e-01,   4.31270339e-02,\n",
       "           3.37756388e-02],\n",
       "        [  3.19190174e-02,   1.40348673e-01,   3.41463983e-02,\n",
       "          -1.20074220e-01,  -2.43183106e-01,   1.55882806e-01,\n",
       "          -1.84343204e-01,   1.94575787e-01,  -1.11108504e-01,\n",
       "          -6.30277395e-02],\n",
       "        [  2.67409366e-02,   1.65252745e-01,  -1.12505876e-01,\n",
       "          -1.09643042e-01,  -2.32860968e-02,  -9.20793191e-02,\n",
       "           2.33446762e-01,  -2.17235208e-01,   2.36486375e-01,\n",
       "           1.06094271e-01],\n",
       "        [  5.73778711e-02,   2.40272090e-01,   1.90337405e-01,\n",
       "          -5.30429147e-02,   2.47349545e-01,  -1.27856284e-01,\n",
       "           2.04555273e-01,  -2.03261569e-01,   1.23137169e-01,\n",
       "           2.06826985e-01],\n",
       "        [  3.67887318e-02,   2.79179275e-01,  -9.50492844e-02,\n",
       "           2.33175159e-02,  -1.90504506e-01,  -1.69000477e-02,\n",
       "           2.41688430e-01,  -1.25512794e-01,  -2.31783733e-01,\n",
       "          -8.46173391e-02],\n",
       "        [ -1.00585200e-01,   2.12310150e-01,  -2.43769273e-01,\n",
       "          -1.47341266e-01,   2.13647634e-01,  -4.16636579e-02,\n",
       "           2.39692077e-01,  -1.14799798e-01,  -3.55339199e-02,\n",
       "          -9.66016874e-02],\n",
       "        [  2.78381646e-01,   1.82980195e-01,   5.39233871e-02,\n",
       "          -8.86888653e-02,   1.47140533e-01,  -2.25074962e-01,\n",
       "          -1.78945035e-01,  -1.51090458e-01,  -6.60095140e-02,\n",
       "          -1.81162041e-02],\n",
       "        [ -2.71559507e-01,  -1.36373430e-01,  -1.56387851e-01,\n",
       "           3.25715821e-03,   2.37024039e-01,   2.73015529e-01,\n",
       "          -3.67823504e-02,  -3.58437784e-02,   1.63191363e-01,\n",
       "           8.86099190e-02],\n",
       "        [ -1.69482008e-01,   7.60707632e-02,  -1.67807080e-02,\n",
       "          -1.87198911e-02,  -1.57159269e-02,  -2.33993202e-01,\n",
       "           5.90489320e-02,   2.74567783e-01,   9.23840981e-03,\n",
       "           2.17062876e-01],\n",
       "        [ -2.54117936e-01,  -9.97545645e-02,  -2.36257330e-01,\n",
       "           1.59909174e-01,  -2.19379902e-01,   1.04799211e-01,\n",
       "           1.75537281e-02,  -1.64598972e-01,  -7.61111379e-02,\n",
       "          -2.19919402e-02],\n",
       "        [ -1.88865304e-01,  -1.60208181e-01,   2.44418830e-01,\n",
       "          -1.15687840e-01,  -1.70282528e-01,   1.69497341e-01,\n",
       "          -2.36476809e-01,  -1.75642878e-01,   1.30826771e-01,\n",
       "           5.29354550e-02],\n",
       "        [ -2.68146098e-01,  -6.05438873e-02,   6.16559088e-02,\n",
       "           1.32157272e-02,   1.31009653e-01,  -2.76117831e-01,\n",
       "          -1.83585569e-01,   5.05830571e-02,  -2.81788707e-01,\n",
       "          -2.60151476e-01],\n",
       "        [  9.22882035e-02,   1.98509693e-01,   1.64712414e-01,\n",
       "           2.23852023e-01,  -2.88633972e-01,   1.43056110e-01,\n",
       "          -2.55786151e-01,   2.55620897e-01,  -1.22931384e-01,\n",
       "           4.23158444e-02],\n",
       "        [ -1.96790352e-01,   1.14836685e-01,  -6.50688773e-04,\n",
       "          -8.91198143e-02,  -1.05705500e-01,   1.38626233e-01,\n",
       "           3.77003253e-02,  -1.74642950e-01,   1.41931236e-01,\n",
       "          -1.42127931e-01],\n",
       "        [  1.65871412e-01,   5.35840634e-03,   9.66286659e-02,\n",
       "          -8.06149319e-02,  -4.07341458e-02,  -5.15217669e-02,\n",
       "          -1.51054576e-01,   1.59116924e-01,   1.23189285e-01,\n",
       "           1.49914473e-01],\n",
       "        [  1.27434373e-01,  -1.18662201e-01,   2.48250410e-01,\n",
       "          -1.35906979e-01,   1.85486600e-01,  -1.29378334e-01,\n",
       "          -4.21060547e-02,  -7.49940500e-02,   2.66465414e-02,\n",
       "          -9.53188241e-02],\n",
       "        [  3.10237318e-01,   4.31099124e-02,  -1.82380870e-01,\n",
       "          -2.80616999e-01,   5.77001013e-02,   1.31216675e-01,\n",
       "           2.50127822e-01,   4.88830097e-02,   1.22595116e-01,\n",
       "          -3.43080610e-02],\n",
       "        [  1.78223670e-01,  -1.90607831e-01,   1.27887785e-01,\n",
       "          -1.23596668e-01,  -3.88287082e-02,  -2.47030839e-01,\n",
       "          -1.20465927e-01,   7.09416494e-02,   1.96902871e-01,\n",
       "           1.14753246e-01],\n",
       "        [  1.84640914e-01,  -2.01718345e-01,  -2.46847853e-01,\n",
       "          -3.62820625e-02,   2.37388641e-01,   9.17311013e-02,\n",
       "          -1.70606375e-01,  -9.37692374e-02,  -1.24118954e-01,\n",
       "          -1.10869050e-01],\n",
       "        [ -8.55819955e-02,   1.37675777e-01,  -1.39960572e-01,\n",
       "          -2.66673207e-01,   9.71263796e-02,   1.06296772e-02,\n",
       "          -3.34073789e-02,  -3.41790356e-02,  -1.25004545e-01,\n",
       "          -1.17262104e-03],\n",
       "        [  2.75567740e-01,  -2.39424676e-01,   1.08152755e-01,\n",
       "          -1.77635670e-01,   1.55288979e-01,  -2.77159899e-01,\n",
       "           1.44199848e-01,   1.97741762e-01,  -4.62568812e-02,\n",
       "          -1.23617813e-01],\n",
       "        [  7.72004724e-02,   2.24821880e-01,   1.65615425e-01,\n",
       "          -2.43538782e-01,   2.77278095e-01,   3.45970057e-02,\n",
       "          -1.24826826e-01,   1.50480852e-01,  -6.17166655e-03,\n",
       "          -4.28183079e-02],\n",
       "        [  5.90105588e-03,  -1.32767454e-01,   1.04384087e-01,\n",
       "           2.22850114e-01,  -1.00320973e-01,  -1.50326669e-01,\n",
       "          -4.60068919e-02,   1.66784301e-01,  -1.87299505e-01,\n",
       "           2.12652728e-01],\n",
       "        [ -1.98203892e-01,   2.46481881e-01,  -1.91890329e-01,\n",
       "           8.24614838e-02,  -7.99719468e-02,  -2.27072313e-01,\n",
       "          -1.29864618e-01,  -2.32596144e-01,  -1.45431319e-02,\n",
       "           8.11998397e-02],\n",
       "        [ -1.04098380e-01,  -1.60556242e-01,   2.21801892e-01,\n",
       "          -1.10972427e-01,   4.38726321e-02,   2.74392039e-01,\n",
       "           2.43353471e-02,  -1.92837477e-01,  -3.71190980e-02,\n",
       "          -2.60035276e-01],\n",
       "        [ -2.54174620e-01,   1.13745160e-01,  -1.02027372e-01,\n",
       "          -1.87390193e-01,  -1.86397195e-01,   2.74270058e-01,\n",
       "           9.82206762e-02,  -2.32646838e-01,   5.78747317e-03,\n",
       "          -1.96533412e-01],\n",
       "        [ -1.06324174e-01,  -2.13826925e-01,  -1.22847199e-01,\n",
       "          -2.60770947e-01,  -2.11505741e-01,  -1.65588945e-01,\n",
       "           2.32239783e-01,  -1.40104413e-01,   1.21631399e-01,\n",
       "           1.92067862e-01],\n",
       "        [  1.35652035e-01,   1.19237252e-01,  -5.79158077e-03,\n",
       "          -1.32480189e-01,   1.92535311e-01,  -1.37412563e-01,\n",
       "          -9.24613443e-04,  -4.77562100e-03,   1.83939531e-01,\n",
       "          -2.55511552e-01],\n",
       "        [  2.66068220e-01,  -8.70645493e-02,  -1.67636022e-01,\n",
       "           1.14150226e-01,   1.64355651e-01,  -2.18436435e-01,\n",
       "          -7.01335222e-02,  -9.90101099e-02,  -1.84106201e-01,\n",
       "          -2.32229754e-01],\n",
       "        [ -3.00928019e-02,   2.12468922e-01,  -4.78430791e-03,\n",
       "          -2.74057567e-01,   2.12264195e-01,  -2.61902511e-01,\n",
       "           5.29013835e-02,   2.23890822e-02,   5.17124822e-03,\n",
       "          -2.67558247e-01],\n",
       "        [ -2.94127911e-01,   9.24202949e-02,  -5.55820987e-02,\n",
       "          -2.52016157e-01,   1.10974833e-01,  -6.20062612e-02,\n",
       "          -6.14633299e-02,  -1.00234590e-01,   2.74140865e-01,\n",
       "           4.35724445e-02],\n",
       "        [  3.13500501e-02,   1.14174739e-01,   1.57104895e-01,\n",
       "          -2.16648728e-01,  -1.79469094e-01,  -2.72494316e-01,\n",
       "           2.50799835e-01,  -3.06099039e-02,  -9.65128765e-02,\n",
       "          -1.22564025e-01],\n",
       "        [ -2.70372808e-01,   1.46859348e-01,   5.66051975e-02,\n",
       "           1.44746736e-01,   4.33781445e-02,  -6.50449842e-02,\n",
       "          -1.69186341e-03,   4.61075455e-03,   1.36249498e-01,\n",
       "          -2.07772568e-01],\n",
       "        [ -7.02014789e-02,  -2.25454271e-01,  -2.46799812e-01,\n",
       "          -2.12831303e-01,  -1.58648968e-01,  -1.07088819e-01,\n",
       "           2.63759881e-01,   2.76635557e-01,  -1.43818870e-01,\n",
       "           3.28305103e-02],\n",
       "        [  8.43507797e-02,   1.27236813e-01,   2.88779493e-02,\n",
       "          -2.37010047e-01,   1.82906359e-01,   1.91307589e-01,\n",
       "          -1.40720963e-01,   2.43604600e-01,  -1.23365864e-01,\n",
       "          -1.46995842e-01],\n",
       "        [ -1.32642120e-01,   1.32027060e-01,   1.72591880e-02,\n",
       "          -1.74147785e-01,  -1.89268142e-02,  -7.36816041e-03,\n",
       "          -1.92293935e-02,  -7.16430545e-02,  -2.29973882e-01,\n",
       "          -6.64766654e-02],\n",
       "        [  2.50160426e-01,   8.74386802e-02,  -2.56554872e-01,\n",
       "           1.82202309e-01,  -2.60488510e-01,  -1.88790947e-01,\n",
       "          -1.97540268e-01,  -3.62350717e-02,  -1.21181369e-01,\n",
       "           2.43288815e-01],\n",
       "        [ -2.80172229e-01,  -2.02543586e-01,   1.48102105e-01,\n",
       "          -2.56388158e-01,   1.11381888e-01,   3.14211436e-02,\n",
       "           8.32826868e-02,   3.10018118e-02,   2.66323686e-01,\n",
       "           5.28950356e-02],\n",
       "        [  2.04243809e-01,   2.39521652e-01,  -2.56825179e-01,\n",
       "          -3.32496949e-02,  -1.66324690e-01,   2.31661901e-01,\n",
       "           2.62204796e-01,  -2.42616132e-01,  -1.54905051e-01,\n",
       "           2.48793721e-01],\n",
       "        [ -8.53489116e-02,   8.64945352e-02,  -3.43619436e-02,\n",
       "          -3.42479758e-02,  -5.01245894e-02,  -1.81449100e-01,\n",
       "          -1.68016985e-01,  -2.12331042e-01,  -2.82257885e-01,\n",
       "           1.84240453e-02],\n",
       "        [ -1.00470884e-02,  -2.49482259e-01,  -2.77115822e-01,\n",
       "           1.91393346e-02,  -4.97303717e-02,   2.51307786e-01,\n",
       "           4.73884254e-04,   1.02303788e-01,   7.33298808e-03,\n",
       "           2.33228862e-01],\n",
       "        [  5.48604280e-02,  -5.83587401e-02,   2.70961314e-01,\n",
       "           1.11366101e-02,  -1.63478240e-01,  -1.78888887e-01,\n",
       "          -1.37719259e-01,  -1.99732289e-01,  -6.17216267e-02,\n",
       "          -6.78515732e-02],\n",
       "        [  5.08999312e-03,  -1.73252642e-01,  -2.72710230e-02,\n",
       "          -2.77509689e-01,   6.99039251e-02,   2.38164201e-01,\n",
       "           1.33613929e-01,   1.39435679e-01,   3.64845097e-02,\n",
       "           1.27569716e-02],\n",
       "        [  1.53478503e-01,  -2.13128537e-01,   1.35921821e-01,\n",
       "           2.54424125e-01,   2.33326972e-01,   1.12308867e-01,\n",
       "          -1.66210383e-01,   1.40531987e-01,   1.09559104e-01,\n",
       "           1.60882711e-01],\n",
       "        [ -1.40315577e-01,   2.63995022e-01,  -1.39276199e-02,\n",
       "          -3.32866795e-02,  -1.05321191e-01,  -5.85977174e-02,\n",
       "           1.99443117e-01,  -2.55698770e-01,  -1.03767626e-01,\n",
       "           3.67675498e-02],\n",
       "        [ -1.80768833e-01,  -2.71577924e-01,  -2.71128565e-01,\n",
       "           5.55626154e-02,   8.82853270e-02,   1.60854891e-01,\n",
       "          -2.34616265e-01,   1.38842851e-01,  -8.73614626e-04,\n",
       "          -2.36777738e-01],\n",
       "        [ -1.18974291e-01,   2.36753911e-01,   2.62935311e-01,\n",
       "          -2.43604332e-01,   2.86373973e-01,   8.42339769e-02,\n",
       "           2.83861562e-04,   9.67656448e-03,  -9.22973827e-02,\n",
       "           1.53458506e-01],\n",
       "        [  6.98250905e-02,  -1.17363958e-02,   2.99822032e-01,\n",
       "           1.25761673e-01,  -2.50363588e-01,  -2.78805465e-01,\n",
       "           1.39768511e-01,  -1.85097188e-01,   8.81498754e-02,\n",
       "          -2.72115529e-01],\n",
       "        [  7.98426196e-02,   6.19213805e-02,   2.36681327e-01,\n",
       "           1.68330118e-01,   9.55916867e-02,   2.13317961e-01,\n",
       "           1.28330037e-01,  -2.69436866e-01,   2.80889213e-01,\n",
       "          -1.80818930e-01],\n",
       "        [  9.31743011e-02,  -1.41021997e-01,   2.85817415e-01,\n",
       "           1.20016903e-01,   1.58219561e-01,   9.42039490e-02,\n",
       "           2.76325822e-01,   9.37185064e-02,  -1.94042489e-01,\n",
       "          -5.67359999e-02],\n",
       "        [  1.72173008e-02,  -4.61898893e-02,   2.40151957e-02,\n",
       "           2.00385854e-01,   2.82030571e-02,  -1.78711966e-01,\n",
       "           1.15283735e-01,  -4.17896695e-02,  -2.57792830e-01,\n",
       "          -2.17147186e-01],\n",
       "        [ -1.01086415e-01,  -2.73792118e-01,  -7.99488798e-02,\n",
       "           1.38904840e-01,   2.65582353e-01,  -8.42545480e-02,\n",
       "          -1.69955418e-01,  -1.30975962e-01,  -2.12212801e-01,\n",
       "           1.27122670e-01],\n",
       "        [ -2.17174858e-01,   2.55693465e-01,  -1.11066192e-01,\n",
       "          -1.98590662e-02,   8.82865936e-02,   2.71620333e-01,\n",
       "           2.12377340e-01,  -1.09690256e-01,   7.24910274e-02,\n",
       "           2.14318335e-01],\n",
       "        [ -2.39193782e-01,  -1.84557229e-01,  -9.96173769e-02,\n",
       "           2.78643519e-01,  -4.82459813e-02,  -2.06385255e-01,\n",
       "          -1.52874157e-01,  -2.13662237e-01,   2.72767633e-01,\n",
       "           1.29445910e-01],\n",
       "        [ -2.61684418e-01,  -1.07357539e-02,  -3.75107303e-02,\n",
       "           1.54952660e-01,   4.75840271e-02,  -3.71474251e-02,\n",
       "          -1.42606318e-01,  -4.61250916e-02,   1.41156716e-02,\n",
       "           2.15866074e-01],\n",
       "        [ -2.63599128e-01,   1.84385031e-01,  -1.28418386e-01,\n",
       "           2.42175698e-01,   2.22945333e-01,   2.20078051e-01,\n",
       "          -2.70410061e-01,   1.78059146e-01,   4.65923222e-03,\n",
       "           8.41586143e-02],\n",
       "        [ -2.43133247e-01,  -9.45558324e-02,   1.96699426e-01,\n",
       "          -1.76776439e-01,   7.36600831e-02,  -1.04246326e-01,\n",
       "          -2.20779568e-01,  -1.95800006e-01,  -1.77337319e-01,\n",
       "          -2.02437192e-01],\n",
       "        [  1.26485601e-02,   1.82245746e-01,  -2.28520170e-01,\n",
       "          -1.57573313e-01,   1.84194580e-01,   1.09895989e-01,\n",
       "          -1.44510537e-01,  -4.05692607e-02,   6.71521500e-02,\n",
       "           9.14408192e-02],\n",
       "        [ -2.54735529e-01,   8.33823308e-02,  -3.18935812e-02,\n",
       "          -3.24080288e-02,  -1.42627791e-01,  -5.23812249e-02,\n",
       "           2.42573127e-01,  -2.54888292e-02,   2.52142847e-01,\n",
       "           8.60285908e-02],\n",
       "        [ -5.91872027e-03,   9.20973867e-02,   1.48451656e-01,\n",
       "          -5.83865382e-02,  -9.19313952e-02,   2.63026338e-02,\n",
       "           2.71479070e-01,   1.10138938e-01,  -1.21556215e-01,\n",
       "          -1.27214342e-01]], dtype=float32),\n",
       " array([  2.34955316e-03,   8.89158808e-04,  -1.10517023e-03,\n",
       "          1.74992951e-03,  -3.49776144e-03,   2.16400385e-05,\n",
       "         -9.08395159e-04,   1.25567743e-03,   6.09832990e-04,\n",
       "         -1.36445032e-03], dtype=float32)]"
      ]
     },
     "execution_count": 24,
     "metadata": {},
     "output_type": "execute_result"
    }
   ],
   "source": [
    "model.get_layer(\"W\").get_weights()"
   ]
  },
  {
   "cell_type": "code",
   "execution_count": null,
   "metadata": {
    "collapsed": true
   },
   "outputs": [],
   "source": []
  },
  {
   "cell_type": "code",
   "execution_count": null,
   "metadata": {
    "collapsed": true
   },
   "outputs": [],
   "source": []
  },
  {
   "cell_type": "code",
   "execution_count": 16,
   "metadata": {
    "collapsed": true,
    "deletable": true,
    "editable": true
   },
   "outputs": [],
   "source": [
    "def get_outputs_generator(model, layer_name):\n",
    "    \"\"\"\n",
    "    Gets the output generator of a specific layer of the model.\n",
    "\n",
    "    :param model: The model\n",
    "    :param layer_name: The layer's name\n",
    "    :return: the output generator (a function)\n",
    "    \"\"\"\n",
    "    layer_model = Model(\n",
    "        input=model.input,\n",
    "        output=model.get_layer(layer_name).output\n",
    "    )\n",
    "\n",
    "    return layer_model.predict\n",
    "\n",
    "def heatmap_generate(input_img, model, class_to_predict, layer_name, image_name=None):\n",
    "   \n",
    "    output_generator = get_outputs_generator(model, layer_name)\n",
    "    layer_outputs = output_generator(np.expand_dims(input_img, axis=0))[0]\n",
    "    \n",
    "    heatmap = cv2.resize(layer_outputs[:, :, 0], (224, 224))\n",
    "    \n",
    "    w = model.get_layer(\"W\").get_weights()[0]\n",
    "    heatmap *= w[0][class_to_predict]\n",
    "\n",
    "    for z in range(1, layer_outputs.shape[2]): # Iterate through the number of kernels\n",
    "        img = layer_outputs[:, :, z]\n",
    "\n",
    "        deprocessed = cv2.resize(img, (224, 224))\n",
    "        heatmap += deprocessed * w[z][class_to_predict]\n",
    "    heatmap = MinMaxScaler((0.0, 255.0)).fit_transform(heatmap)\n",
    "\n",
    "    heatmap_colored = cv2.applyColorMap(np.uint8(heatmap), cv2.COLORMAP_JET)\n",
    "\n",
    "    if image_name is not None:\n",
    "        heatmap_colored = cv2.putText(heatmap_colored, image_name, (10, 25), cv2.FONT_HERSHEY_SIMPLEX, 0.75, (0, 0, 0),\n",
    "                                      2)\n",
    "    return heatmap_colored"
   ]
  },
  {
   "cell_type": "code",
   "execution_count": 17,
   "metadata": {
    "collapsed": false,
    "deletable": true,
    "editable": true
   },
   "outputs": [
    {
     "data": {
      "text/plain": [
       "(28, 28)"
      ]
     },
     "execution_count": 17,
     "metadata": {},
     "output_type": "execute_result"
    }
   ],
   "source": [
    "predict_input = np.expand_dims(img, axis=0)\n",
    "predict_input = predict_input.astype('float32')\n",
    "predict_input = preprocess_input(predict_input)\n",
    "predict_input.shape[1:3]"
   ]
  },
  {
   "cell_type": "code",
   "execution_count": 18,
   "metadata": {
    "collapsed": false
   },
   "outputs": [
    {
     "data": {
      "text/plain": [
       "4"
      ]
     },
     "execution_count": 18,
     "metadata": {},
     "output_type": "execute_result"
    }
   ],
   "source": [
    "argmax(model.predict(predict_input))"
   ]
  },
  {
   "cell_type": "code",
   "execution_count": 19,
   "metadata": {
    "collapsed": false,
    "deletable": true,
    "editable": true
   },
   "outputs": [
    {
     "name": "stderr",
     "output_type": "stream",
     "text": [
      "/usr/lib/python3.5/site-packages/ipykernel/__main__.py:11: UserWarning: Update your `Model` call to the Keras 2 API: `Model(outputs=Tensor(\"CA..., inputs=Tensor(\"co...)`\n"
     ]
    },
    {
     "data": {
      "text/plain": [
       "True"
      ]
     },
     "execution_count": 19,
     "metadata": {},
     "output_type": "execute_result"
    }
   ],
   "source": [
    "heatmap = heatmap_generate(predict_input[0], model, argmax(model.predict(predict_input)), 'CAM')\n",
    "heatmap\n",
    "cv2.imwrite('CAM_nponly.png',heatmap )"
   ]
  },
  {
   "cell_type": "code",
   "execution_count": null,
   "metadata": {
    "collapsed": true
   },
   "outputs": [],
   "source": []
  }
 ],
 "metadata": {
  "kernelspec": {
   "display_name": "Python 3",
   "language": "python",
   "name": "python3"
  },
  "language_info": {
   "codemirror_mode": {
    "name": "ipython",
    "version": 3
   },
   "file_extension": ".py",
   "mimetype": "text/x-python",
   "name": "python",
   "nbconvert_exporter": "python",
   "pygments_lexer": "ipython3",
   "version": "3.5.3"
  }
 },
 "nbformat": 4,
 "nbformat_minor": 2
}
